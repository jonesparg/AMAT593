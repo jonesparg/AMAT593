{
 "cells": [
  {
   "cell_type": "markdown",
   "metadata": {},
   "source": [
    "# K-Nearest Neighbors\n",
    "\n",
    "We use KNNs to create a model that directly predicts a class for a new data point based off of the features. We'll also introduce metric learning to improve the performance of KNN classifiers by constructing informed distance metric."
   ]
  },
  {
   "cell_type": "markdown",
   "metadata": {},
   "source": [
    "## Basics\n",
    "\n",
    "Although KNNs use labelled data for inference, **they do not go through any training process because there are no model parameters to learn.** KNNs can be used for both classification (`KNeighborsClassifier`) and regression (`KNeighborsRegressor`) tasks.\n",
    "\n",
    "Given a labeled dataset $\\{(x_i, y_i)\\}_{i=1}^n$ and a sample $x$ to be predicted:\n",
    "\n",
    "1. Select a value $K$ and a **distance function**\n",
    "\n",
    "2. Compute the distance between $x$ and the $n$ training samples\n",
    "\n",
    "3. Take the $K$-nearest data samples, known as $K$-nearest neighbors\n",
    "\n",
    "4. - Classification: assign $x$ to the class that has the greatest number of its $K$-nearest neighbors\n",
    "   - Regression: average the target values of its $K$-nearest neighbors\n",
    "\n",
    "<img src='../figs/08_KNN.png' width = '300'>\n",
    "\n",
    "KNN's performance is influenced by \n",
    "\n",
    "* The **distance function** used to determine the nearest neighbors\n",
    "\n",
    "* **number of nearest neighbors** taken into account, i.e. value of $K$, used to classify  new samples\n",
    "\n",
    "\n",
    "In the case where variables have very different measurement scales, then one variable will have a much higher influence on the distance calculated than another, e.g., one variable is based on annual income in dollars, and the other is based on age in years. We need to **standardize** the data (training and testing) so that features are on the same scale."
   ]
  },
  {
   "cell_type": "code",
   "execution_count": 109,
   "metadata": {},
   "outputs": [],
   "source": [
    "import pandas as pd\n",
    "import seaborn as sns\n",
    "import matplotlib.pyplot as plt\n",
    "import numpy as np\n",
    "%matplotlib inline"
   ]
  },
  {
   "cell_type": "markdown",
   "metadata": {},
   "source": [
    "## Get the Data\n",
    "\n",
    "Set index_col=0 to use the first column as the index."
   ]
  },
  {
   "cell_type": "code",
   "execution_count": 110,
   "metadata": {},
   "outputs": [
    {
     "data": {
      "text/html": [
       "<div>\n",
       "<style scoped>\n",
       "    .dataframe tbody tr th:only-of-type {\n",
       "        vertical-align: middle;\n",
       "    }\n",
       "\n",
       "    .dataframe tbody tr th {\n",
       "        vertical-align: top;\n",
       "    }\n",
       "\n",
       "    .dataframe thead th {\n",
       "        text-align: right;\n",
       "    }\n",
       "</style>\n",
       "<table border=\"1\" class=\"dataframe\">\n",
       "  <thead>\n",
       "    <tr style=\"text-align: right;\">\n",
       "      <th></th>\n",
       "      <th>Unnamed: 0</th>\n",
       "      <th>WTT</th>\n",
       "      <th>PTI</th>\n",
       "      <th>EQW</th>\n",
       "      <th>SBI</th>\n",
       "      <th>LQE</th>\n",
       "      <th>QWG</th>\n",
       "      <th>FDJ</th>\n",
       "      <th>PJF</th>\n",
       "      <th>HQE</th>\n",
       "      <th>NXJ</th>\n",
       "      <th>TARGET CLASS</th>\n",
       "    </tr>\n",
       "  </thead>\n",
       "  <tbody>\n",
       "    <tr>\n",
       "      <th>0</th>\n",
       "      <td>0</td>\n",
       "      <td>0.913917</td>\n",
       "      <td>1.162073</td>\n",
       "      <td>0.567946</td>\n",
       "      <td>0.755464</td>\n",
       "      <td>0.780862</td>\n",
       "      <td>0.352608</td>\n",
       "      <td>0.759697</td>\n",
       "      <td>0.643798</td>\n",
       "      <td>0.879422</td>\n",
       "      <td>1.231409</td>\n",
       "      <td>1</td>\n",
       "    </tr>\n",
       "    <tr>\n",
       "      <th>1</th>\n",
       "      <td>1</td>\n",
       "      <td>0.635632</td>\n",
       "      <td>1.003722</td>\n",
       "      <td>0.535342</td>\n",
       "      <td>0.825645</td>\n",
       "      <td>0.924109</td>\n",
       "      <td>0.648450</td>\n",
       "      <td>0.675334</td>\n",
       "      <td>1.013546</td>\n",
       "      <td>0.621552</td>\n",
       "      <td>1.492702</td>\n",
       "      <td>0</td>\n",
       "    </tr>\n",
       "    <tr>\n",
       "      <th>2</th>\n",
       "      <td>2</td>\n",
       "      <td>0.721360</td>\n",
       "      <td>1.201493</td>\n",
       "      <td>0.921990</td>\n",
       "      <td>0.855595</td>\n",
       "      <td>1.526629</td>\n",
       "      <td>0.720781</td>\n",
       "      <td>1.626351</td>\n",
       "      <td>1.154483</td>\n",
       "      <td>0.957877</td>\n",
       "      <td>1.285597</td>\n",
       "      <td>0</td>\n",
       "    </tr>\n",
       "    <tr>\n",
       "      <th>3</th>\n",
       "      <td>3</td>\n",
       "      <td>1.234204</td>\n",
       "      <td>1.386726</td>\n",
       "      <td>0.653046</td>\n",
       "      <td>0.825624</td>\n",
       "      <td>1.142504</td>\n",
       "      <td>0.875128</td>\n",
       "      <td>1.409708</td>\n",
       "      <td>1.380003</td>\n",
       "      <td>1.522692</td>\n",
       "      <td>1.153093</td>\n",
       "      <td>1</td>\n",
       "    </tr>\n",
       "    <tr>\n",
       "      <th>4</th>\n",
       "      <td>4</td>\n",
       "      <td>1.279491</td>\n",
       "      <td>0.949750</td>\n",
       "      <td>0.627280</td>\n",
       "      <td>0.668976</td>\n",
       "      <td>1.232537</td>\n",
       "      <td>0.703727</td>\n",
       "      <td>1.115596</td>\n",
       "      <td>0.646691</td>\n",
       "      <td>1.463812</td>\n",
       "      <td>1.419167</td>\n",
       "      <td>1</td>\n",
       "    </tr>\n",
       "    <tr>\n",
       "      <th>...</th>\n",
       "      <td>...</td>\n",
       "      <td>...</td>\n",
       "      <td>...</td>\n",
       "      <td>...</td>\n",
       "      <td>...</td>\n",
       "      <td>...</td>\n",
       "      <td>...</td>\n",
       "      <td>...</td>\n",
       "      <td>...</td>\n",
       "      <td>...</td>\n",
       "      <td>...</td>\n",
       "      <td>...</td>\n",
       "    </tr>\n",
       "    <tr>\n",
       "      <th>995</th>\n",
       "      <td>995</td>\n",
       "      <td>1.010953</td>\n",
       "      <td>1.034006</td>\n",
       "      <td>0.853116</td>\n",
       "      <td>0.622460</td>\n",
       "      <td>1.036610</td>\n",
       "      <td>0.586240</td>\n",
       "      <td>0.746811</td>\n",
       "      <td>0.319752</td>\n",
       "      <td>1.117340</td>\n",
       "      <td>1.348517</td>\n",
       "      <td>1</td>\n",
       "    </tr>\n",
       "    <tr>\n",
       "      <th>996</th>\n",
       "      <td>996</td>\n",
       "      <td>0.575529</td>\n",
       "      <td>0.955786</td>\n",
       "      <td>0.941835</td>\n",
       "      <td>0.792882</td>\n",
       "      <td>1.414277</td>\n",
       "      <td>1.269540</td>\n",
       "      <td>1.055928</td>\n",
       "      <td>0.713193</td>\n",
       "      <td>0.958684</td>\n",
       "      <td>1.663489</td>\n",
       "      <td>0</td>\n",
       "    </tr>\n",
       "    <tr>\n",
       "      <th>997</th>\n",
       "      <td>997</td>\n",
       "      <td>1.135470</td>\n",
       "      <td>0.982462</td>\n",
       "      <td>0.781905</td>\n",
       "      <td>0.916738</td>\n",
       "      <td>0.901031</td>\n",
       "      <td>0.884738</td>\n",
       "      <td>0.386802</td>\n",
       "      <td>0.389584</td>\n",
       "      <td>0.919191</td>\n",
       "      <td>1.385504</td>\n",
       "      <td>1</td>\n",
       "    </tr>\n",
       "    <tr>\n",
       "      <th>998</th>\n",
       "      <td>998</td>\n",
       "      <td>1.084894</td>\n",
       "      <td>0.861769</td>\n",
       "      <td>0.407158</td>\n",
       "      <td>0.665696</td>\n",
       "      <td>1.608612</td>\n",
       "      <td>0.943859</td>\n",
       "      <td>0.855806</td>\n",
       "      <td>1.061338</td>\n",
       "      <td>1.277456</td>\n",
       "      <td>1.188063</td>\n",
       "      <td>1</td>\n",
       "    </tr>\n",
       "    <tr>\n",
       "      <th>999</th>\n",
       "      <td>999</td>\n",
       "      <td>0.837460</td>\n",
       "      <td>0.961184</td>\n",
       "      <td>0.417006</td>\n",
       "      <td>0.799784</td>\n",
       "      <td>0.934399</td>\n",
       "      <td>0.424762</td>\n",
       "      <td>0.778234</td>\n",
       "      <td>0.907962</td>\n",
       "      <td>1.257190</td>\n",
       "      <td>1.364837</td>\n",
       "      <td>1</td>\n",
       "    </tr>\n",
       "  </tbody>\n",
       "</table>\n",
       "<p>1000 rows × 12 columns</p>\n",
       "</div>"
      ],
      "text/plain": [
       "     Unnamed: 0       WTT       PTI       EQW       SBI       LQE       QWG  \\\n",
       "0             0  0.913917  1.162073  0.567946  0.755464  0.780862  0.352608   \n",
       "1             1  0.635632  1.003722  0.535342  0.825645  0.924109  0.648450   \n",
       "2             2  0.721360  1.201493  0.921990  0.855595  1.526629  0.720781   \n",
       "3             3  1.234204  1.386726  0.653046  0.825624  1.142504  0.875128   \n",
       "4             4  1.279491  0.949750  0.627280  0.668976  1.232537  0.703727   \n",
       "..          ...       ...       ...       ...       ...       ...       ...   \n",
       "995         995  1.010953  1.034006  0.853116  0.622460  1.036610  0.586240   \n",
       "996         996  0.575529  0.955786  0.941835  0.792882  1.414277  1.269540   \n",
       "997         997  1.135470  0.982462  0.781905  0.916738  0.901031  0.884738   \n",
       "998         998  1.084894  0.861769  0.407158  0.665696  1.608612  0.943859   \n",
       "999         999  0.837460  0.961184  0.417006  0.799784  0.934399  0.424762   \n",
       "\n",
       "          FDJ       PJF       HQE       NXJ  TARGET CLASS  \n",
       "0    0.759697  0.643798  0.879422  1.231409             1  \n",
       "1    0.675334  1.013546  0.621552  1.492702             0  \n",
       "2    1.626351  1.154483  0.957877  1.285597             0  \n",
       "3    1.409708  1.380003  1.522692  1.153093             1  \n",
       "4    1.115596  0.646691  1.463812  1.419167             1  \n",
       "..        ...       ...       ...       ...           ...  \n",
       "995  0.746811  0.319752  1.117340  1.348517             1  \n",
       "996  1.055928  0.713193  0.958684  1.663489             0  \n",
       "997  0.386802  0.389584  0.919191  1.385504             1  \n",
       "998  0.855806  1.061338  1.277456  1.188063             1  \n",
       "999  0.778234  0.907962  1.257190  1.364837             1  \n",
       "\n",
       "[1000 rows x 12 columns]"
      ]
     },
     "execution_count": 110,
     "metadata": {},
     "output_type": "execute_result"
    }
   ],
   "source": [
    "df = pd.read_csv(\"KNN_Dataset\")\n",
    "df"
   ]
  },
  {
   "cell_type": "code",
   "execution_count": 111,
   "metadata": {},
   "outputs": [],
   "source": [
    "df = pd.read_csv(\"KNN_Dataset\", index_col=0)"
   ]
  },
  {
   "cell_type": "code",
   "execution_count": 112,
   "metadata": {},
   "outputs": [
    {
     "data": {
      "text/html": [
       "<div>\n",
       "<style scoped>\n",
       "    .dataframe tbody tr th:only-of-type {\n",
       "        vertical-align: middle;\n",
       "    }\n",
       "\n",
       "    .dataframe tbody tr th {\n",
       "        vertical-align: top;\n",
       "    }\n",
       "\n",
       "    .dataframe thead th {\n",
       "        text-align: right;\n",
       "    }\n",
       "</style>\n",
       "<table border=\"1\" class=\"dataframe\">\n",
       "  <thead>\n",
       "    <tr style=\"text-align: right;\">\n",
       "      <th></th>\n",
       "      <th>WTT</th>\n",
       "      <th>PTI</th>\n",
       "      <th>EQW</th>\n",
       "      <th>SBI</th>\n",
       "      <th>LQE</th>\n",
       "      <th>QWG</th>\n",
       "      <th>FDJ</th>\n",
       "      <th>PJF</th>\n",
       "      <th>HQE</th>\n",
       "      <th>NXJ</th>\n",
       "      <th>TARGET CLASS</th>\n",
       "    </tr>\n",
       "  </thead>\n",
       "  <tbody>\n",
       "    <tr>\n",
       "      <th>0</th>\n",
       "      <td>0.913917</td>\n",
       "      <td>1.162073</td>\n",
       "      <td>0.567946</td>\n",
       "      <td>0.755464</td>\n",
       "      <td>0.780862</td>\n",
       "      <td>0.352608</td>\n",
       "      <td>0.759697</td>\n",
       "      <td>0.643798</td>\n",
       "      <td>0.879422</td>\n",
       "      <td>1.231409</td>\n",
       "      <td>1</td>\n",
       "    </tr>\n",
       "    <tr>\n",
       "      <th>1</th>\n",
       "      <td>0.635632</td>\n",
       "      <td>1.003722</td>\n",
       "      <td>0.535342</td>\n",
       "      <td>0.825645</td>\n",
       "      <td>0.924109</td>\n",
       "      <td>0.648450</td>\n",
       "      <td>0.675334</td>\n",
       "      <td>1.013546</td>\n",
       "      <td>0.621552</td>\n",
       "      <td>1.492702</td>\n",
       "      <td>0</td>\n",
       "    </tr>\n",
       "    <tr>\n",
       "      <th>2</th>\n",
       "      <td>0.721360</td>\n",
       "      <td>1.201493</td>\n",
       "      <td>0.921990</td>\n",
       "      <td>0.855595</td>\n",
       "      <td>1.526629</td>\n",
       "      <td>0.720781</td>\n",
       "      <td>1.626351</td>\n",
       "      <td>1.154483</td>\n",
       "      <td>0.957877</td>\n",
       "      <td>1.285597</td>\n",
       "      <td>0</td>\n",
       "    </tr>\n",
       "    <tr>\n",
       "      <th>3</th>\n",
       "      <td>1.234204</td>\n",
       "      <td>1.386726</td>\n",
       "      <td>0.653046</td>\n",
       "      <td>0.825624</td>\n",
       "      <td>1.142504</td>\n",
       "      <td>0.875128</td>\n",
       "      <td>1.409708</td>\n",
       "      <td>1.380003</td>\n",
       "      <td>1.522692</td>\n",
       "      <td>1.153093</td>\n",
       "      <td>1</td>\n",
       "    </tr>\n",
       "    <tr>\n",
       "      <th>4</th>\n",
       "      <td>1.279491</td>\n",
       "      <td>0.949750</td>\n",
       "      <td>0.627280</td>\n",
       "      <td>0.668976</td>\n",
       "      <td>1.232537</td>\n",
       "      <td>0.703727</td>\n",
       "      <td>1.115596</td>\n",
       "      <td>0.646691</td>\n",
       "      <td>1.463812</td>\n",
       "      <td>1.419167</td>\n",
       "      <td>1</td>\n",
       "    </tr>\n",
       "  </tbody>\n",
       "</table>\n",
       "</div>"
      ],
      "text/plain": [
       "        WTT       PTI       EQW       SBI       LQE       QWG       FDJ  \\\n",
       "0  0.913917  1.162073  0.567946  0.755464  0.780862  0.352608  0.759697   \n",
       "1  0.635632  1.003722  0.535342  0.825645  0.924109  0.648450  0.675334   \n",
       "2  0.721360  1.201493  0.921990  0.855595  1.526629  0.720781  1.626351   \n",
       "3  1.234204  1.386726  0.653046  0.825624  1.142504  0.875128  1.409708   \n",
       "4  1.279491  0.949750  0.627280  0.668976  1.232537  0.703727  1.115596   \n",
       "\n",
       "        PJF       HQE       NXJ  TARGET CLASS  \n",
       "0  0.643798  0.879422  1.231409             1  \n",
       "1  1.013546  0.621552  1.492702             0  \n",
       "2  1.154483  0.957877  1.285597             0  \n",
       "3  1.380003  1.522692  1.153093             1  \n",
       "4  0.646691  1.463812  1.419167             1  "
      ]
     },
     "execution_count": 112,
     "metadata": {},
     "output_type": "execute_result"
    }
   ],
   "source": [
    "df.head()"
   ]
  },
  {
   "cell_type": "code",
   "execution_count": 113,
   "metadata": {},
   "outputs": [
    {
     "data": {
      "text/plain": [
       "1000"
      ]
     },
     "execution_count": 113,
     "metadata": {},
     "output_type": "execute_result"
    }
   ],
   "source": [
    "df.shape[0]"
   ]
  },
  {
   "cell_type": "markdown",
   "metadata": {},
   "source": [
    "## Standardize the Variables\n",
    "\n",
    "Because the KNN classifier predicts the class of a given test observation by identifying the observations that are nearest to it, the scale of the variables matters. Any variables that are on a large scale will have a much larger effect on the distance between the observations, and hence on the KNN classifier, than variables that are on a small scale."
   ]
  },
  {
   "cell_type": "code",
   "execution_count": 114,
   "metadata": {},
   "outputs": [],
   "source": [
    "from sklearn.preprocessing import StandardScaler\n",
    "scaler = StandardScaler()"
   ]
  },
  {
   "cell_type": "code",
   "execution_count": 115,
   "metadata": {},
   "outputs": [
    {
     "data": {
      "text/plain": [
       "StandardScaler()"
      ]
     },
     "execution_count": 115,
     "metadata": {},
     "output_type": "execute_result"
    }
   ],
   "source": [
    "scaler.fit(df.drop('TARGET CLASS',axis=1))"
   ]
  },
  {
   "cell_type": "code",
   "execution_count": 116,
   "metadata": {},
   "outputs": [],
   "source": [
    "scaled_features = scaler.transform(df.drop('TARGET CLASS',axis=1))"
   ]
  },
  {
   "cell_type": "code",
   "execution_count": 117,
   "metadata": {},
   "outputs": [
    {
     "data": {
      "text/html": [
       "<div>\n",
       "<style scoped>\n",
       "    .dataframe tbody tr th:only-of-type {\n",
       "        vertical-align: middle;\n",
       "    }\n",
       "\n",
       "    .dataframe tbody tr th {\n",
       "        vertical-align: top;\n",
       "    }\n",
       "\n",
       "    .dataframe thead th {\n",
       "        text-align: right;\n",
       "    }\n",
       "</style>\n",
       "<table border=\"1\" class=\"dataframe\">\n",
       "  <thead>\n",
       "    <tr style=\"text-align: right;\">\n",
       "      <th></th>\n",
       "      <th>WTT</th>\n",
       "      <th>PTI</th>\n",
       "      <th>EQW</th>\n",
       "      <th>SBI</th>\n",
       "      <th>LQE</th>\n",
       "      <th>QWG</th>\n",
       "      <th>FDJ</th>\n",
       "      <th>PJF</th>\n",
       "      <th>HQE</th>\n",
       "      <th>NXJ</th>\n",
       "    </tr>\n",
       "  </thead>\n",
       "  <tbody>\n",
       "    <tr>\n",
       "      <th>0</th>\n",
       "      <td>-0.123542</td>\n",
       "      <td>0.185907</td>\n",
       "      <td>-0.913431</td>\n",
       "      <td>0.319629</td>\n",
       "      <td>-1.033637</td>\n",
       "      <td>-2.308375</td>\n",
       "      <td>-0.798951</td>\n",
       "      <td>-1.482368</td>\n",
       "      <td>-0.949719</td>\n",
       "      <td>-0.643314</td>\n",
       "    </tr>\n",
       "    <tr>\n",
       "      <th>1</th>\n",
       "      <td>-1.084836</td>\n",
       "      <td>-0.430348</td>\n",
       "      <td>-1.025313</td>\n",
       "      <td>0.625388</td>\n",
       "      <td>-0.444847</td>\n",
       "      <td>-1.152706</td>\n",
       "      <td>-1.129797</td>\n",
       "      <td>-0.202240</td>\n",
       "      <td>-1.828051</td>\n",
       "      <td>0.636759</td>\n",
       "    </tr>\n",
       "    <tr>\n",
       "      <th>2</th>\n",
       "      <td>-0.788702</td>\n",
       "      <td>0.339318</td>\n",
       "      <td>0.301511</td>\n",
       "      <td>0.755873</td>\n",
       "      <td>2.031693</td>\n",
       "      <td>-0.870156</td>\n",
       "      <td>2.599818</td>\n",
       "      <td>0.285707</td>\n",
       "      <td>-0.682494</td>\n",
       "      <td>-0.377850</td>\n",
       "    </tr>\n",
       "    <tr>\n",
       "      <th>3</th>\n",
       "      <td>0.982841</td>\n",
       "      <td>1.060193</td>\n",
       "      <td>-0.621399</td>\n",
       "      <td>0.625299</td>\n",
       "      <td>0.452820</td>\n",
       "      <td>-0.267220</td>\n",
       "      <td>1.750208</td>\n",
       "      <td>1.066491</td>\n",
       "      <td>1.241325</td>\n",
       "      <td>-1.026987</td>\n",
       "    </tr>\n",
       "    <tr>\n",
       "      <th>4</th>\n",
       "      <td>1.139275</td>\n",
       "      <td>-0.640392</td>\n",
       "      <td>-0.709819</td>\n",
       "      <td>-0.057175</td>\n",
       "      <td>0.822886</td>\n",
       "      <td>-0.936773</td>\n",
       "      <td>0.596782</td>\n",
       "      <td>-1.472352</td>\n",
       "      <td>1.040772</td>\n",
       "      <td>0.276510</td>\n",
       "    </tr>\n",
       "  </tbody>\n",
       "</table>\n",
       "</div>"
      ],
      "text/plain": [
       "        WTT       PTI       EQW       SBI       LQE       QWG       FDJ  \\\n",
       "0 -0.123542  0.185907 -0.913431  0.319629 -1.033637 -2.308375 -0.798951   \n",
       "1 -1.084836 -0.430348 -1.025313  0.625388 -0.444847 -1.152706 -1.129797   \n",
       "2 -0.788702  0.339318  0.301511  0.755873  2.031693 -0.870156  2.599818   \n",
       "3  0.982841  1.060193 -0.621399  0.625299  0.452820 -0.267220  1.750208   \n",
       "4  1.139275 -0.640392 -0.709819 -0.057175  0.822886 -0.936773  0.596782   \n",
       "\n",
       "        PJF       HQE       NXJ  \n",
       "0 -1.482368 -0.949719 -0.643314  \n",
       "1 -0.202240 -1.828051  0.636759  \n",
       "2  0.285707 -0.682494 -0.377850  \n",
       "3  1.066491  1.241325 -1.026987  \n",
       "4 -1.472352  1.040772  0.276510  "
      ]
     },
     "execution_count": 117,
     "metadata": {},
     "output_type": "execute_result"
    }
   ],
   "source": [
    "df_feat = pd.DataFrame(scaled_features,columns=df.columns[:-1])\n",
    "df_feat.head()"
   ]
  },
  {
   "cell_type": "markdown",
   "metadata": {},
   "source": [
    "## Train Test Split"
   ]
  },
  {
   "cell_type": "code",
   "execution_count": 118,
   "metadata": {},
   "outputs": [],
   "source": [
    "from sklearn.model_selection import train_test_split"
   ]
  },
  {
   "cell_type": "code",
   "execution_count": 119,
   "metadata": {},
   "outputs": [],
   "source": [
    "X_train, X_test, y_train, y_test = train_test_split(scaled_features,df['TARGET CLASS'],\n",
    "                                                    test_size=0.30, random_state=101)"
   ]
  },
  {
   "cell_type": "markdown",
   "metadata": {},
   "source": [
    "## Using KNN\n",
    "\n",
    "Remember that we are trying to come up with a model to predict whether someone will TARGET CLASS or not. "
   ]
  },
  {
   "cell_type": "code",
   "execution_count": 120,
   "metadata": {},
   "outputs": [],
   "source": [
    "from sklearn.neighbors import KNeighborsClassifier"
   ]
  },
  {
   "cell_type": "markdown",
   "metadata": {},
   "source": [
    "For KNN algorithm, there are two important factors: the number of nearest neighbors and the metric or norm used for measure the distance, i.e., $\\ell_p$ norm ($p\\geq1$)\n",
    "\n",
    "* Euclidean:  $\\|x-z\\|:=\\sqrt{\\sum_{i=1}^d  (x_i - z_i)^2 }$, $(p=2)$\n",
    "\n",
    "* Manhattan: $\\|x-z\\|_1:=\\sum_{i=1}^d  |x_i - z_i|$, $(p=1)$\n",
    "\n",
    "* Minkowski: $\\|x-z\\|_p := \\left(\\sum_{i=1}^d  (x_i - z_i)^p \\right)^{1/p}$ "
   ]
  },
  {
   "cell_type": "code",
   "execution_count": 121,
   "metadata": {},
   "outputs": [],
   "source": [
    "knn = KNeighborsClassifier(n_neighbors=1) # default: Euclidean distance, i.e., p=2"
   ]
  },
  {
   "cell_type": "code",
   "execution_count": 122,
   "metadata": {},
   "outputs": [
    {
     "data": {
      "text/plain": [
       "KNeighborsClassifier(n_neighbors=1)"
      ]
     },
     "execution_count": 122,
     "metadata": {},
     "output_type": "execute_result"
    }
   ],
   "source": [
    "knn.fit(X_train,y_train)"
   ]
  },
  {
   "cell_type": "code",
   "execution_count": 123,
   "metadata": {},
   "outputs": [],
   "source": [
    "pred = knn.predict(X_test)"
   ]
  },
  {
   "cell_type": "markdown",
   "metadata": {},
   "source": [
    "## Predictions and Evaluations"
   ]
  },
  {
   "cell_type": "code",
   "execution_count": 124,
   "metadata": {},
   "outputs": [],
   "source": [
    "from sklearn.metrics import classification_report, confusion_matrix"
   ]
  },
  {
   "cell_type": "code",
   "execution_count": 125,
   "metadata": {},
   "outputs": [
    {
     "name": "stdout",
     "output_type": "stream",
     "text": [
      "K=1\n",
      "[[151   8]\n",
      " [ 15 126]]\n",
      "              precision    recall  f1-score   support\n",
      "\n",
      "           0       0.91      0.95      0.93       159\n",
      "           1       0.94      0.89      0.92       141\n",
      "\n",
      "    accuracy                           0.92       300\n",
      "   macro avg       0.92      0.92      0.92       300\n",
      "weighted avg       0.92      0.92      0.92       300\n",
      "\n"
     ]
    }
   ],
   "source": [
    "print('K=1')\n",
    "# confusion matrix: [ [#TP, #FP], [#FN, #TN] ] \n",
    "print(confusion_matrix(y_test,pred))\n",
    "print(classification_report(y_test,pred))"
   ]
  },
  {
   "cell_type": "markdown",
   "metadata": {},
   "source": [
    "## Choosing a K Value\n",
    "\n",
    "Do a for loop to pick a good K Value:"
   ]
  },
  {
   "cell_type": "code",
   "execution_count": 126,
   "metadata": {},
   "outputs": [],
   "source": [
    "error_rate = []\n",
    "\n",
    "for i in range(1,40):\n",
    "    knn = KNeighborsClassifier(n_neighbors=i)\n",
    "    knn.fit(X_train,y_train)\n",
    "    pred_i = knn.predict(X_test)\n",
    "    error_rate.append(np.mean(pred_i != y_test)) # misclassification rate"
   ]
  },
  {
   "cell_type": "code",
   "execution_count": 127,
   "metadata": {},
   "outputs": [
    {
     "data": {
      "text/plain": [
       "Text(0, 0.5, 'Error Rate')"
      ]
     },
     "execution_count": 127,
     "metadata": {},
     "output_type": "execute_result"
    },
    {
     "data": {
      "image/png": "[encoded data removed]",
      "text/plain": [
       "<Figure size 720x432 with 1 Axes>"
      ]
     },
     "metadata": {
      "needs_background": "light"
     },
     "output_type": "display_data"
    }
   ],
   "source": [
    "plt.figure(figsize=(10,6))\n",
    "plt.plot(range(1,40),error_rate,color='blue', linestyle='dashed', marker='o',\n",
    "         markerfacecolor='red', markersize=10)\n",
    "plt.title('Error Rate vs. K Value')\n",
    "plt.xlabel('K')\n",
    "plt.ylabel('Error Rate')"
   ]
  },
  {
   "cell_type": "markdown",
   "metadata": {},
   "source": [
    "Here we can see that the error rate tends to hover around 0.05-0.07"
   ]
  },
  {
   "cell_type": "code",
   "execution_count": 128,
   "metadata": {},
   "outputs": [
    {
     "name": "stdout",
     "output_type": "stream",
     "text": [
      "The best K = 34\n",
      "[[153   6]\n",
      " [  7 134]]\n",
      "              precision    recall  f1-score   support\n",
      "\n",
      "           0       0.96      0.96      0.96       159\n",
      "           1       0.96      0.95      0.95       141\n",
      "\n",
      "    accuracy                           0.96       300\n",
      "   macro avg       0.96      0.96      0.96       300\n",
      "weighted avg       0.96      0.96      0.96       300\n",
      "\n"
     ]
    }
   ],
   "source": [
    "# The best K = 34\n",
    "knn = KNeighborsClassifier(n_neighbors=34)\n",
    "\n",
    "knn.fit(X_train,y_train)\n",
    "pred = knn.predict(X_test)\n",
    "\n",
    "print('The best K = 34')\n",
    "print(confusion_matrix(y_test,pred))\n",
    "print(classification_report(y_test,pred))"
   ]
  },
  {
   "cell_type": "markdown",
   "metadata": {},
   "source": [
    "## Large Margin Nearest Neighbor\n",
    "\n",
    "[Large Margin Nearest Neighbor](https://en.wikipedia.org/wiki/Large_margin_nearest_neighbor) (LMNN) belongs to the class of metric learning. The goal of supervised metric learning algorithms is to transform points in a new space, in which \n",
    "\n",
    "* the distance between two points from the same class will be small\n",
    "\n",
    "* the distance between two points from different classes will be large.\n",
    "\n",
    "LMNN learns a **Mahalanobis distance** metric in the KNN classification setting. The learned metric attempts to keep close k-nearest neighbors from the same class, while keeping examples from different classes separated by a large margin. This algorithm makes no assumptions about the distribution of the data. **You'll need to first install the ``metric_learn`` library.**\n",
    "\n",
    "A **Mahalanobis distance** metric is induced by some matrix $\\mathbf{D}$:\n",
    "\n",
    "$$\n",
    "d_M(\\mathbf{x}, \\mathbf{z}) = \\|\\mathbf{D}(\\mathbf{x} - \\mathbf{z})\\|\n",
    "$$\n",
    "\n",
    "<img src='../figs/08_Lmnn.png' width =  '600'>"
   ]
  },
  {
   "cell_type": "markdown",
   "metadata": {},
   "source": [
    "The distance, i.e. $\\mathbf{D}$, is learned by solving the following optimization problem:\n",
    "\n",
    "$$\n",
    "\\min_{\\mathbf{D}} \\sum_{i,j} \\eta_{i,j} \\|\\mathbf{D}(\\mathbf{x}_i - \\mathbf{x}_j)\\|^2 + c \\sum_{i,j,l} \\eta_{i,j} (1-y_{i,l})\\left[ 1+ \\|\\mathbf{D}(\\mathbf{x}_i - \\mathbf{x}_j)\\|^2 - \\|\\mathbf{D}(\\mathbf{x}_i - \\mathbf{x}_l)\\|^2\\right]_+\n",
    "$$\n",
    "\n",
    "where $\\mathbf{x}_i$ is a data point, $\\mathbf{x}_j$ is one of its K-nearest neighbors sharing the same label, and $\\mathbf{x}_l$ is any instance within that region with different label, $\\eta_{i,j}, y_{i,j}\\in\\{0,1\\}$ are both the indicators, $\\eta_{i,j} = 1$ represents $\\mathbf{x}_j$ is the K-nearest neighbors (with same labels) of $\\mathbf{x}_i$, $y_{i,l}=0$ indicates $\\mathbf{x}_i$, $\\mathbf{x}_l$ belong to different classes, $[\\cdot]_+ = \\max(0,\\cdot)$ is the hinge loss.\n",
    "\n",
    "* The first optimization goal is achieved by minimizing the average distance between instances and their target neighbors of the same class.\n",
    "\n",
    "* The second goal is achieved by penalizing distances to $\\mathbf{x}_l$ that are less than one unit further away than to target neighbors $\\mathbf{x}_j$ (and therefore pushing them out of the local neighborhood of $\\mathbf{x}_i$)."
   ]
  },
  {
   "cell_type": "code",
   "execution_count": 129,
   "metadata": {},
   "outputs": [
    {
     "data": {
      "text/plain": [
       "LMNN(k=5, learn_rate=1e-06)"
      ]
     },
     "execution_count": 129,
     "metadata": {},
     "output_type": "execute_result"
    }
   ],
   "source": [
    "import numpy as np\n",
    "from metric_learn import LMNN \n",
    "\n",
    "lmnn = LMNN(k=5, learn_rate=1e-6)\n",
    "lmnn.fit(X_train, y_train)"
   ]
  },
  {
   "cell_type": "code",
   "execution_count": 130,
   "metadata": {},
   "outputs": [
    {
     "name": "stdout",
     "output_type": "stream",
     "text": [
      "<function MahalanobisMixin.get_metric.<locals>.metric_fun at 0x7fd9ea9c10d0>\n"
     ]
    }
   ],
   "source": [
    "print(lmnn.get_metric())"
   ]
  },
  {
   "cell_type": "code",
   "execution_count": 131,
   "metadata": {},
   "outputs": [
    {
     "name": "stdout",
     "output_type": "stream",
     "text": [
      "K=5\n",
      "[[154   5]\n",
      " [ 11 130]]\n",
      "              precision    recall  f1-score   support\n",
      "\n",
      "           0       0.93      0.97      0.95       159\n",
      "           1       0.96      0.92      0.94       141\n",
      "\n",
      "    accuracy                           0.95       300\n",
      "   macro avg       0.95      0.95      0.95       300\n",
      "weighted avg       0.95      0.95      0.95       300\n",
      "\n"
     ]
    }
   ],
   "source": [
    "knn = KNeighborsClassifier(n_neighbors=5, metric=lmnn.get_metric())\n",
    "knn.fit(X_train,y_train)\n",
    "\n",
    "pred = knn.predict(X_test)\n",
    "\n",
    "print('K=5')\n",
    "print(confusion_matrix(y_test,pred))\n",
    "print(classification_report(y_test,pred))"
   ]
  },
  {
   "cell_type": "code",
   "execution_count": 132,
   "metadata": {},
   "outputs": [
    {
     "ename": "KeyboardInterrupt",
     "evalue": "",
     "output_type": "error",
     "traceback": [
      "\u001b[0;31m---------------------------------------------------------------------------\u001b[0m",
      "\u001b[0;31mKeyboardInterrupt\u001b[0m                         Traceback (most recent call last)",
      "Input \u001b[0;32mIn [132]\u001b[0m, in \u001b[0;36m<cell line: 3>\u001b[0;34m()\u001b[0m\n\u001b[1;32m      6\u001b[0m     knn \u001b[38;5;241m=\u001b[39m KNeighborsClassifier(n_neighbors\u001b[38;5;241m=\u001b[39mi, metric\u001b[38;5;241m=\u001b[39mlmnn\u001b[38;5;241m.\u001b[39mget_metric())\n\u001b[1;32m      7\u001b[0m     knn\u001b[38;5;241m.\u001b[39mfit(X_train,y_train)\n\u001b[0;32m----> 8\u001b[0m     pred_i \u001b[38;5;241m=\u001b[39m \u001b[43mknn\u001b[49m\u001b[38;5;241;43m.\u001b[39;49m\u001b[43mpredict\u001b[49m\u001b[43m(\u001b[49m\u001b[43mX_test\u001b[49m\u001b[43m)\u001b[49m\n\u001b[1;32m      9\u001b[0m     error_rate\u001b[38;5;241m.\u001b[39mappend(np\u001b[38;5;241m.\u001b[39mmean(pred_i \u001b[38;5;241m!=\u001b[39m y_test)) \u001b[38;5;66;03m# misclassification rate\u001b[39;00m\n\u001b[1;32m     11\u001b[0m plt\u001b[38;5;241m.\u001b[39mfigure(figsize\u001b[38;5;241m=\u001b[39m(\u001b[38;5;241m10\u001b[39m,\u001b[38;5;241m6\u001b[39m))\n",
      "File \u001b[0;32m~/opt/anaconda3/lib/python3.9/site-packages/sklearn/neighbors/_classification.py:214\u001b[0m, in \u001b[0;36mKNeighborsClassifier.predict\u001b[0;34m(self, X)\u001b[0m\n\u001b[1;32m    200\u001b[0m \u001b[38;5;28;01mdef\u001b[39;00m \u001b[38;5;21mpredict\u001b[39m(\u001b[38;5;28mself\u001b[39m, X):\n\u001b[1;32m    201\u001b[0m     \u001b[38;5;124;03m\"\"\"Predict the class labels for the provided data.\u001b[39;00m\n\u001b[1;32m    202\u001b[0m \n\u001b[1;32m    203\u001b[0m \u001b[38;5;124;03m    Parameters\u001b[39;00m\n\u001b[0;32m   (...)\u001b[0m\n\u001b[1;32m    212\u001b[0m \u001b[38;5;124;03m        Class labels for each data sample.\u001b[39;00m\n\u001b[1;32m    213\u001b[0m \u001b[38;5;124;03m    \"\"\"\u001b[39;00m\n\u001b[0;32m--> 214\u001b[0m     neigh_dist, neigh_ind \u001b[38;5;241m=\u001b[39m \u001b[38;5;28;43mself\u001b[39;49m\u001b[38;5;241;43m.\u001b[39;49m\u001b[43mkneighbors\u001b[49m\u001b[43m(\u001b[49m\u001b[43mX\u001b[49m\u001b[43m)\u001b[49m\n\u001b[1;32m    215\u001b[0m     classes_ \u001b[38;5;241m=\u001b[39m \u001b[38;5;28mself\u001b[39m\u001b[38;5;241m.\u001b[39mclasses_\n\u001b[1;32m    216\u001b[0m     _y \u001b[38;5;241m=\u001b[39m \u001b[38;5;28mself\u001b[39m\u001b[38;5;241m.\u001b[39m_y\n",
      "File \u001b[0;32m~/opt/anaconda3/lib/python3.9/site-packages/sklearn/neighbors/_base.py:776\u001b[0m, in \u001b[0;36mKNeighborsMixin.kneighbors\u001b[0;34m(self, X, n_neighbors, return_distance)\u001b[0m\n\u001b[1;32m    774\u001b[0m     \u001b[38;5;28;01melse\u001b[39;00m:\n\u001b[1;32m    775\u001b[0m         parallel_kwargs \u001b[38;5;241m=\u001b[39m {\u001b[38;5;124m\"\u001b[39m\u001b[38;5;124mprefer\u001b[39m\u001b[38;5;124m\"\u001b[39m: \u001b[38;5;124m\"\u001b[39m\u001b[38;5;124mthreads\u001b[39m\u001b[38;5;124m\"\u001b[39m}\n\u001b[0;32m--> 776\u001b[0m     chunked_results \u001b[38;5;241m=\u001b[39m \u001b[43mParallel\u001b[49m\u001b[43m(\u001b[49m\u001b[43mn_jobs\u001b[49m\u001b[43m,\u001b[49m\u001b[43m \u001b[49m\u001b[38;5;241;43m*\u001b[39;49m\u001b[38;5;241;43m*\u001b[39;49m\u001b[43mparallel_kwargs\u001b[49m\u001b[43m)\u001b[49m\u001b[43m(\u001b[49m\n\u001b[1;32m    777\u001b[0m \u001b[43m        \u001b[49m\u001b[43mdelayed\u001b[49m\u001b[43m(\u001b[49m\u001b[43m_tree_query_parallel_helper\u001b[49m\u001b[43m)\u001b[49m\u001b[43m(\u001b[49m\n\u001b[1;32m    778\u001b[0m \u001b[43m            \u001b[49m\u001b[38;5;28;43mself\u001b[39;49m\u001b[38;5;241;43m.\u001b[39;49m\u001b[43m_tree\u001b[49m\u001b[43m,\u001b[49m\u001b[43m \u001b[49m\u001b[43mX\u001b[49m\u001b[43m[\u001b[49m\u001b[43ms\u001b[49m\u001b[43m]\u001b[49m\u001b[43m,\u001b[49m\u001b[43m \u001b[49m\u001b[43mn_neighbors\u001b[49m\u001b[43m,\u001b[49m\u001b[43m \u001b[49m\u001b[43mreturn_distance\u001b[49m\n\u001b[1;32m    779\u001b[0m \u001b[43m        \u001b[49m\u001b[43m)\u001b[49m\n\u001b[1;32m    780\u001b[0m \u001b[43m        \u001b[49m\u001b[38;5;28;43;01mfor\u001b[39;49;00m\u001b[43m \u001b[49m\u001b[43ms\u001b[49m\u001b[43m \u001b[49m\u001b[38;5;129;43;01min\u001b[39;49;00m\u001b[43m \u001b[49m\u001b[43mgen_even_slices\u001b[49m\u001b[43m(\u001b[49m\u001b[43mX\u001b[49m\u001b[38;5;241;43m.\u001b[39;49m\u001b[43mshape\u001b[49m\u001b[43m[\u001b[49m\u001b[38;5;241;43m0\u001b[39;49m\u001b[43m]\u001b[49m\u001b[43m,\u001b[49m\u001b[43m \u001b[49m\u001b[43mn_jobs\u001b[49m\u001b[43m)\u001b[49m\n\u001b[1;32m    781\u001b[0m \u001b[43m    \u001b[49m\u001b[43m)\u001b[49m\n\u001b[1;32m    782\u001b[0m \u001b[38;5;28;01melse\u001b[39;00m:\n\u001b[1;32m    783\u001b[0m     \u001b[38;5;28;01mraise\u001b[39;00m \u001b[38;5;167;01mValueError\u001b[39;00m(\u001b[38;5;124m\"\u001b[39m\u001b[38;5;124minternal: _fit_method not recognized\u001b[39m\u001b[38;5;124m\"\u001b[39m)\n",
      "File \u001b[0;32m~/opt/anaconda3/lib/python3.9/site-packages/joblib/parallel.py:1043\u001b[0m, in \u001b[0;36mParallel.__call__\u001b[0;34m(self, iterable)\u001b[0m\n\u001b[1;32m   1034\u001b[0m \u001b[38;5;28;01mtry\u001b[39;00m:\n\u001b[1;32m   1035\u001b[0m     \u001b[38;5;66;03m# Only set self._iterating to True if at least a batch\u001b[39;00m\n\u001b[1;32m   1036\u001b[0m     \u001b[38;5;66;03m# was dispatched. In particular this covers the edge\u001b[39;00m\n\u001b[0;32m   (...)\u001b[0m\n\u001b[1;32m   1040\u001b[0m     \u001b[38;5;66;03m# was very quick and its callback already dispatched all the\u001b[39;00m\n\u001b[1;32m   1041\u001b[0m     \u001b[38;5;66;03m# remaining jobs.\u001b[39;00m\n\u001b[1;32m   1042\u001b[0m     \u001b[38;5;28mself\u001b[39m\u001b[38;5;241m.\u001b[39m_iterating \u001b[38;5;241m=\u001b[39m \u001b[38;5;28;01mFalse\u001b[39;00m\n\u001b[0;32m-> 1043\u001b[0m     \u001b[38;5;28;01mif\u001b[39;00m \u001b[38;5;28;43mself\u001b[39;49m\u001b[38;5;241;43m.\u001b[39;49m\u001b[43mdispatch_one_batch\u001b[49m\u001b[43m(\u001b[49m\u001b[43miterator\u001b[49m\u001b[43m)\u001b[49m:\n\u001b[1;32m   1044\u001b[0m         \u001b[38;5;28mself\u001b[39m\u001b[38;5;241m.\u001b[39m_iterating \u001b[38;5;241m=\u001b[39m \u001b[38;5;28mself\u001b[39m\u001b[38;5;241m.\u001b[39m_original_iterator \u001b[38;5;129;01mis\u001b[39;00m \u001b[38;5;129;01mnot\u001b[39;00m \u001b[38;5;28;01mNone\u001b[39;00m\n\u001b[1;32m   1046\u001b[0m     \u001b[38;5;28;01mwhile\u001b[39;00m \u001b[38;5;28mself\u001b[39m\u001b[38;5;241m.\u001b[39mdispatch_one_batch(iterator):\n",
      "File \u001b[0;32m~/opt/anaconda3/lib/python3.9/site-packages/joblib/parallel.py:861\u001b[0m, in \u001b[0;36mParallel.dispatch_one_batch\u001b[0;34m(self, iterator)\u001b[0m\n\u001b[1;32m    859\u001b[0m     \u001b[38;5;28;01mreturn\u001b[39;00m \u001b[38;5;28;01mFalse\u001b[39;00m\n\u001b[1;32m    860\u001b[0m \u001b[38;5;28;01melse\u001b[39;00m:\n\u001b[0;32m--> 861\u001b[0m     \u001b[38;5;28;43mself\u001b[39;49m\u001b[38;5;241;43m.\u001b[39;49m\u001b[43m_dispatch\u001b[49m\u001b[43m(\u001b[49m\u001b[43mtasks\u001b[49m\u001b[43m)\u001b[49m\n\u001b[1;32m    862\u001b[0m     \u001b[38;5;28;01mreturn\u001b[39;00m \u001b[38;5;28;01mTrue\u001b[39;00m\n",
      "File \u001b[0;32m~/opt/anaconda3/lib/python3.9/site-packages/joblib/parallel.py:779\u001b[0m, in \u001b[0;36mParallel._dispatch\u001b[0;34m(self, batch)\u001b[0m\n\u001b[1;32m    777\u001b[0m \u001b[38;5;28;01mwith\u001b[39;00m \u001b[38;5;28mself\u001b[39m\u001b[38;5;241m.\u001b[39m_lock:\n\u001b[1;32m    778\u001b[0m     job_idx \u001b[38;5;241m=\u001b[39m \u001b[38;5;28mlen\u001b[39m(\u001b[38;5;28mself\u001b[39m\u001b[38;5;241m.\u001b[39m_jobs)\n\u001b[0;32m--> 779\u001b[0m     job \u001b[38;5;241m=\u001b[39m \u001b[38;5;28;43mself\u001b[39;49m\u001b[38;5;241;43m.\u001b[39;49m\u001b[43m_backend\u001b[49m\u001b[38;5;241;43m.\u001b[39;49m\u001b[43mapply_async\u001b[49m\u001b[43m(\u001b[49m\u001b[43mbatch\u001b[49m\u001b[43m,\u001b[49m\u001b[43m \u001b[49m\u001b[43mcallback\u001b[49m\u001b[38;5;241;43m=\u001b[39;49m\u001b[43mcb\u001b[49m\u001b[43m)\u001b[49m\n\u001b[1;32m    780\u001b[0m     \u001b[38;5;66;03m# A job can complete so quickly than its callback is\u001b[39;00m\n\u001b[1;32m    781\u001b[0m     \u001b[38;5;66;03m# called before we get here, causing self._jobs to\u001b[39;00m\n\u001b[1;32m    782\u001b[0m     \u001b[38;5;66;03m# grow. To ensure correct results ordering, .insert is\u001b[39;00m\n\u001b[1;32m    783\u001b[0m     \u001b[38;5;66;03m# used (rather than .append) in the following line\u001b[39;00m\n\u001b[1;32m    784\u001b[0m     \u001b[38;5;28mself\u001b[39m\u001b[38;5;241m.\u001b[39m_jobs\u001b[38;5;241m.\u001b[39minsert(job_idx, job)\n",
      "File \u001b[0;32m~/opt/anaconda3/lib/python3.9/site-packages/joblib/_parallel_backends.py:208\u001b[0m, in \u001b[0;36mSequentialBackend.apply_async\u001b[0;34m(self, func, callback)\u001b[0m\n\u001b[1;32m    206\u001b[0m \u001b[38;5;28;01mdef\u001b[39;00m \u001b[38;5;21mapply_async\u001b[39m(\u001b[38;5;28mself\u001b[39m, func, callback\u001b[38;5;241m=\u001b[39m\u001b[38;5;28;01mNone\u001b[39;00m):\n\u001b[1;32m    207\u001b[0m     \u001b[38;5;124;03m\"\"\"Schedule a func to be run\"\"\"\u001b[39;00m\n\u001b[0;32m--> 208\u001b[0m     result \u001b[38;5;241m=\u001b[39m \u001b[43mImmediateResult\u001b[49m\u001b[43m(\u001b[49m\u001b[43mfunc\u001b[49m\u001b[43m)\u001b[49m\n\u001b[1;32m    209\u001b[0m     \u001b[38;5;28;01mif\u001b[39;00m callback:\n\u001b[1;32m    210\u001b[0m         callback(result)\n",
      "File \u001b[0;32m~/opt/anaconda3/lib/python3.9/site-packages/joblib/_parallel_backends.py:572\u001b[0m, in \u001b[0;36mImmediateResult.__init__\u001b[0;34m(self, batch)\u001b[0m\n\u001b[1;32m    569\u001b[0m \u001b[38;5;28;01mdef\u001b[39;00m \u001b[38;5;21m__init__\u001b[39m(\u001b[38;5;28mself\u001b[39m, batch):\n\u001b[1;32m    570\u001b[0m     \u001b[38;5;66;03m# Don't delay the application, to avoid keeping the input\u001b[39;00m\n\u001b[1;32m    571\u001b[0m     \u001b[38;5;66;03m# arguments in memory\u001b[39;00m\n\u001b[0;32m--> 572\u001b[0m     \u001b[38;5;28mself\u001b[39m\u001b[38;5;241m.\u001b[39mresults \u001b[38;5;241m=\u001b[39m \u001b[43mbatch\u001b[49m\u001b[43m(\u001b[49m\u001b[43m)\u001b[49m\n",
      "File \u001b[0;32m~/opt/anaconda3/lib/python3.9/site-packages/joblib/parallel.py:262\u001b[0m, in \u001b[0;36mBatchedCalls.__call__\u001b[0;34m(self)\u001b[0m\n\u001b[1;32m    258\u001b[0m \u001b[38;5;28;01mdef\u001b[39;00m \u001b[38;5;21m__call__\u001b[39m(\u001b[38;5;28mself\u001b[39m):\n\u001b[1;32m    259\u001b[0m     \u001b[38;5;66;03m# Set the default nested backend to self._backend but do not set the\u001b[39;00m\n\u001b[1;32m    260\u001b[0m     \u001b[38;5;66;03m# change the default number of processes to -1\u001b[39;00m\n\u001b[1;32m    261\u001b[0m     \u001b[38;5;28;01mwith\u001b[39;00m parallel_backend(\u001b[38;5;28mself\u001b[39m\u001b[38;5;241m.\u001b[39m_backend, n_jobs\u001b[38;5;241m=\u001b[39m\u001b[38;5;28mself\u001b[39m\u001b[38;5;241m.\u001b[39m_n_jobs):\n\u001b[0;32m--> 262\u001b[0m         \u001b[38;5;28;01mreturn\u001b[39;00m [func(\u001b[38;5;241m*\u001b[39margs, \u001b[38;5;241m*\u001b[39m\u001b[38;5;241m*\u001b[39mkwargs)\n\u001b[1;32m    263\u001b[0m                 \u001b[38;5;28;01mfor\u001b[39;00m func, args, kwargs \u001b[38;5;129;01min\u001b[39;00m \u001b[38;5;28mself\u001b[39m\u001b[38;5;241m.\u001b[39mitems]\n",
      "File \u001b[0;32m~/opt/anaconda3/lib/python3.9/site-packages/joblib/parallel.py:262\u001b[0m, in \u001b[0;36m<listcomp>\u001b[0;34m(.0)\u001b[0m\n\u001b[1;32m    258\u001b[0m \u001b[38;5;28;01mdef\u001b[39;00m \u001b[38;5;21m__call__\u001b[39m(\u001b[38;5;28mself\u001b[39m):\n\u001b[1;32m    259\u001b[0m     \u001b[38;5;66;03m# Set the default nested backend to self._backend but do not set the\u001b[39;00m\n\u001b[1;32m    260\u001b[0m     \u001b[38;5;66;03m# change the default number of processes to -1\u001b[39;00m\n\u001b[1;32m    261\u001b[0m     \u001b[38;5;28;01mwith\u001b[39;00m parallel_backend(\u001b[38;5;28mself\u001b[39m\u001b[38;5;241m.\u001b[39m_backend, n_jobs\u001b[38;5;241m=\u001b[39m\u001b[38;5;28mself\u001b[39m\u001b[38;5;241m.\u001b[39m_n_jobs):\n\u001b[0;32m--> 262\u001b[0m         \u001b[38;5;28;01mreturn\u001b[39;00m [\u001b[43mfunc\u001b[49m\u001b[43m(\u001b[49m\u001b[38;5;241;43m*\u001b[39;49m\u001b[43margs\u001b[49m\u001b[43m,\u001b[49m\u001b[43m \u001b[49m\u001b[38;5;241;43m*\u001b[39;49m\u001b[38;5;241;43m*\u001b[39;49m\u001b[43mkwargs\u001b[49m\u001b[43m)\u001b[49m\n\u001b[1;32m    263\u001b[0m                 \u001b[38;5;28;01mfor\u001b[39;00m func, args, kwargs \u001b[38;5;129;01min\u001b[39;00m \u001b[38;5;28mself\u001b[39m\u001b[38;5;241m.\u001b[39mitems]\n",
      "File \u001b[0;32m~/opt/anaconda3/lib/python3.9/site-packages/sklearn/utils/fixes.py:216\u001b[0m, in \u001b[0;36m_FuncWrapper.__call__\u001b[0;34m(self, *args, **kwargs)\u001b[0m\n\u001b[1;32m    214\u001b[0m \u001b[38;5;28;01mdef\u001b[39;00m \u001b[38;5;21m__call__\u001b[39m(\u001b[38;5;28mself\u001b[39m, \u001b[38;5;241m*\u001b[39margs, \u001b[38;5;241m*\u001b[39m\u001b[38;5;241m*\u001b[39mkwargs):\n\u001b[1;32m    215\u001b[0m     \u001b[38;5;28;01mwith\u001b[39;00m config_context(\u001b[38;5;241m*\u001b[39m\u001b[38;5;241m*\u001b[39m\u001b[38;5;28mself\u001b[39m\u001b[38;5;241m.\u001b[39mconfig):\n\u001b[0;32m--> 216\u001b[0m         \u001b[38;5;28;01mreturn\u001b[39;00m \u001b[38;5;28;43mself\u001b[39;49m\u001b[38;5;241;43m.\u001b[39;49m\u001b[43mfunction\u001b[49m\u001b[43m(\u001b[49m\u001b[38;5;241;43m*\u001b[39;49m\u001b[43margs\u001b[49m\u001b[43m,\u001b[49m\u001b[43m \u001b[49m\u001b[38;5;241;43m*\u001b[39;49m\u001b[38;5;241;43m*\u001b[39;49m\u001b[43mkwargs\u001b[49m\u001b[43m)\u001b[49m\n",
      "File \u001b[0;32m~/opt/anaconda3/lib/python3.9/site-packages/sklearn/neighbors/_base.py:600\u001b[0m, in \u001b[0;36m_tree_query_parallel_helper\u001b[0;34m(tree, *args, **kwargs)\u001b[0m\n\u001b[1;32m    594\u001b[0m \u001b[38;5;28;01mdef\u001b[39;00m \u001b[38;5;21m_tree_query_parallel_helper\u001b[39m(tree, \u001b[38;5;241m*\u001b[39margs, \u001b[38;5;241m*\u001b[39m\u001b[38;5;241m*\u001b[39mkwargs):\n\u001b[1;32m    595\u001b[0m     \u001b[38;5;124;03m\"\"\"Helper for the Parallel calls in KNeighborsMixin.kneighbors.\u001b[39;00m\n\u001b[1;32m    596\u001b[0m \n\u001b[1;32m    597\u001b[0m \u001b[38;5;124;03m    The Cython method tree.query is not directly picklable by cloudpickle\u001b[39;00m\n\u001b[1;32m    598\u001b[0m \u001b[38;5;124;03m    under PyPy.\u001b[39;00m\n\u001b[1;32m    599\u001b[0m \u001b[38;5;124;03m    \"\"\"\u001b[39;00m\n\u001b[0;32m--> 600\u001b[0m     \u001b[38;5;28;01mreturn\u001b[39;00m \u001b[43mtree\u001b[49m\u001b[38;5;241;43m.\u001b[39;49m\u001b[43mquery\u001b[49m\u001b[43m(\u001b[49m\u001b[38;5;241;43m*\u001b[39;49m\u001b[43margs\u001b[49m\u001b[43m,\u001b[49m\u001b[43m \u001b[49m\u001b[38;5;241;43m*\u001b[39;49m\u001b[38;5;241;43m*\u001b[39;49m\u001b[43mkwargs\u001b[49m\u001b[43m)\u001b[49m\n",
      "File \u001b[0;32msklearn/neighbors/_binary_tree.pxi:1295\u001b[0m, in \u001b[0;36msklearn.neighbors._ball_tree.BinaryTree.query\u001b[0;34m()\u001b[0m\n",
      "File \u001b[0;32msklearn/neighbors/_binary_tree.pxi:1753\u001b[0m, in \u001b[0;36msklearn.neighbors._ball_tree.BinaryTree._query_single_depthfirst\u001b[0;34m()\u001b[0m\n",
      "File \u001b[0;32msklearn/neighbors/_binary_tree.pxi:1753\u001b[0m, in \u001b[0;36msklearn.neighbors._ball_tree.BinaryTree._query_single_depthfirst\u001b[0;34m()\u001b[0m\n",
      "File \u001b[0;32msklearn/neighbors/_binary_tree.pxi:1755\u001b[0m, in \u001b[0;36msklearn.neighbors._ball_tree.BinaryTree._query_single_depthfirst\u001b[0;34m()\u001b[0m\n",
      "File \u001b[0;32msklearn/neighbors/_binary_tree.pxi:1755\u001b[0m, in \u001b[0;36msklearn.neighbors._ball_tree.BinaryTree._query_single_depthfirst\u001b[0;34m()\u001b[0m\n",
      "File \u001b[0;32msklearn/neighbors/_binary_tree.pxi:1736\u001b[0m, in \u001b[0;36msklearn.neighbors._ball_tree.BinaryTree._query_single_depthfirst\u001b[0;34m()\u001b[0m\n",
      "File \u001b[0;32msklearn/neighbors/_binary_tree.pxi:1143\u001b[0m, in \u001b[0;36msklearn.neighbors._ball_tree.BinaryTree.rdist\u001b[0;34m()\u001b[0m\n",
      "File \u001b[0;32msklearn/metrics/_dist_metrics.pyx:312\u001b[0m, in \u001b[0;36msklearn.metrics._dist_metrics.DistanceMetric.rdist\u001b[0;34m()\u001b[0m\n",
      "File \u001b[0;32msklearn/metrics/_dist_metrics.pyx:1133\u001b[0m, in \u001b[0;36msklearn.metrics._dist_metrics.PyFuncDistance.dist\u001b[0;34m()\u001b[0m\n",
      "File \u001b[0;32msklearn/metrics/_dist_metrics.pyx:1141\u001b[0m, in \u001b[0;36msklearn.metrics._dist_metrics.PyFuncDistance._dist\u001b[0;34m()\u001b[0m\n",
      "File \u001b[0;32m~/opt/anaconda3/lib/python3.9/site-packages/metric_learn/base_metric.py:280\u001b[0m, in \u001b[0;36mMahalanobisMixin.get_metric.<locals>.metric_fun\u001b[0;34m(u, v, squared)\u001b[0m\n\u001b[1;32m    278\u001b[0m dist \u001b[38;5;241m=\u001b[39m np\u001b[38;5;241m.\u001b[39mdot(transformed_diff, transformed_diff\u001b[38;5;241m.\u001b[39mT)\n\u001b[1;32m    279\u001b[0m \u001b[38;5;28;01mif\u001b[39;00m \u001b[38;5;129;01mnot\u001b[39;00m squared:\n\u001b[0;32m--> 280\u001b[0m   dist \u001b[38;5;241m=\u001b[39m \u001b[43mnp\u001b[49m\u001b[38;5;241;43m.\u001b[39;49m\u001b[43msqrt\u001b[49m\u001b[43m(\u001b[49m\u001b[43mdist\u001b[49m\u001b[43m)\u001b[49m\n\u001b[1;32m    281\u001b[0m \u001b[38;5;28;01mreturn\u001b[39;00m dist\n",
      "\u001b[0;31mKeyboardInterrupt\u001b[0m: "
     ]
    }
   ],
   "source": [
    "error_rate = []\n",
    "\n",
    "for i in range(1,40):\n",
    "    lmnn = LMNN(k=i, learn_rate=1e-6)\n",
    "    lmnn.fit(X_train, y_train)\n",
    "    knn = KNeighborsClassifier(n_neighbors=i, metric=lmnn.get_metric())\n",
    "    knn.fit(X_train,y_train)\n",
    "    pred_i = knn.predict(X_test)\n",
    "    error_rate.append(np.mean(pred_i != y_test)) # misclassification rate\n",
    "\n",
    "plt.figure(figsize=(10,6))\n",
    "plt.plot(range(1,40),error_rate,color='blue', linestyle='dashed', marker='o',\n",
    "         markerfacecolor='red', markersize=10)\n",
    "plt.title('Error Rate vs. K Value')\n",
    "plt.xlabel('K')\n",
    "plt.ylabel('Error Rate')"
   ]
  },
  {
   "cell_type": "markdown",
   "metadata": {},
   "source": [
    "**KNN with data-driven metric learning outperforms the original KNN with standard metrics at different levels of K value.**"
   ]
  },
  {
   "cell_type": "markdown",
   "metadata": {},
   "source": [
    "## Predicting Age of Abalone\n",
    "\n",
    "The [Abalone dataset](https://archive.ics.uci.edu/ml/datasets/abalone) contains age measurements on a large number of abalones. The age of an [abalone](https://en.wikipedia.org/wiki/Abalone) can be found by cutting its shell and counting the number of rings on the shell. \n",
    "\n",
    "\n",
    "### Attribute Information:\n",
    "\n",
    "Given is the attribute name, attribute type, the measurement unit and a brief description. The number of rings is the value to predict: \n",
    "\n",
    "- Sex: nominal / -- / M, F, and I (infant) \n",
    "- Length: continuous / mm / Longest shell measurement \n",
    "- Diameter: continuous / mm / perpendicular to length \n",
    "- Height: continuous / mm / with meat in shell \n",
    "- Whole weight: continuous / grams / whole abalone \n",
    "- Shucked weight: continuous / grams / weight of meat \n",
    "- Viscera weight: continuous / grams / gut weight (after bleeding) \n",
    "- Shell weight: continuous / grams / after being dried \n",
    "- Rings: integer / -- / +1.5 gives the age in years \n"
   ]
  },
  {
   "cell_type": "markdown",
   "metadata": {},
   "source": [
    "### Import Data"
   ]
  },
  {
   "cell_type": "code",
   "execution_count": 133,
   "metadata": {},
   "outputs": [],
   "source": [
    "import pandas as pd\n",
    "url = \"https://archive.ics.uci.edu/ml/machine-learning-databases/abalone/abalone.data\"\n",
    "abalone = pd.read_csv(url, header=None)"
   ]
  },
  {
   "cell_type": "code",
   "execution_count": 134,
   "metadata": {},
   "outputs": [
    {
     "data": {
      "text/html": [
       "<div>\n",
       "<style scoped>\n",
       "    .dataframe tbody tr th:only-of-type {\n",
       "        vertical-align: middle;\n",
       "    }\n",
       "\n",
       "    .dataframe tbody tr th {\n",
       "        vertical-align: top;\n",
       "    }\n",
       "\n",
       "    .dataframe thead th {\n",
       "        text-align: right;\n",
       "    }\n",
       "</style>\n",
       "<table border=\"1\" class=\"dataframe\">\n",
       "  <thead>\n",
       "    <tr style=\"text-align: right;\">\n",
       "      <th></th>\n",
       "      <th>0</th>\n",
       "      <th>1</th>\n",
       "      <th>2</th>\n",
       "      <th>3</th>\n",
       "      <th>4</th>\n",
       "      <th>5</th>\n",
       "      <th>6</th>\n",
       "      <th>7</th>\n",
       "      <th>8</th>\n",
       "    </tr>\n",
       "  </thead>\n",
       "  <tbody>\n",
       "    <tr>\n",
       "      <th>0</th>\n",
       "      <td>M</td>\n",
       "      <td>0.455</td>\n",
       "      <td>0.365</td>\n",
       "      <td>0.095</td>\n",
       "      <td>0.5140</td>\n",
       "      <td>0.2245</td>\n",
       "      <td>0.1010</td>\n",
       "      <td>0.150</td>\n",
       "      <td>15</td>\n",
       "    </tr>\n",
       "    <tr>\n",
       "      <th>1</th>\n",
       "      <td>M</td>\n",
       "      <td>0.350</td>\n",
       "      <td>0.265</td>\n",
       "      <td>0.090</td>\n",
       "      <td>0.2255</td>\n",
       "      <td>0.0995</td>\n",
       "      <td>0.0485</td>\n",
       "      <td>0.070</td>\n",
       "      <td>7</td>\n",
       "    </tr>\n",
       "    <tr>\n",
       "      <th>2</th>\n",
       "      <td>F</td>\n",
       "      <td>0.530</td>\n",
       "      <td>0.420</td>\n",
       "      <td>0.135</td>\n",
       "      <td>0.6770</td>\n",
       "      <td>0.2565</td>\n",
       "      <td>0.1415</td>\n",
       "      <td>0.210</td>\n",
       "      <td>9</td>\n",
       "    </tr>\n",
       "    <tr>\n",
       "      <th>3</th>\n",
       "      <td>M</td>\n",
       "      <td>0.440</td>\n",
       "      <td>0.365</td>\n",
       "      <td>0.125</td>\n",
       "      <td>0.5160</td>\n",
       "      <td>0.2155</td>\n",
       "      <td>0.1140</td>\n",
       "      <td>0.155</td>\n",
       "      <td>10</td>\n",
       "    </tr>\n",
       "    <tr>\n",
       "      <th>4</th>\n",
       "      <td>I</td>\n",
       "      <td>0.330</td>\n",
       "      <td>0.255</td>\n",
       "      <td>0.080</td>\n",
       "      <td>0.2050</td>\n",
       "      <td>0.0895</td>\n",
       "      <td>0.0395</td>\n",
       "      <td>0.055</td>\n",
       "      <td>7</td>\n",
       "    </tr>\n",
       "  </tbody>\n",
       "</table>\n",
       "</div>"
      ],
      "text/plain": [
       "   0      1      2      3       4       5       6      7   8\n",
       "0  M  0.455  0.365  0.095  0.5140  0.2245  0.1010  0.150  15\n",
       "1  M  0.350  0.265  0.090  0.2255  0.0995  0.0485  0.070   7\n",
       "2  F  0.530  0.420  0.135  0.6770  0.2565  0.1415  0.210   9\n",
       "3  M  0.440  0.365  0.125  0.5160  0.2155  0.1140  0.155  10\n",
       "4  I  0.330  0.255  0.080  0.2050  0.0895  0.0395  0.055   7"
      ]
     },
     "execution_count": 134,
     "metadata": {},
     "output_type": "execute_result"
    }
   ],
   "source": [
    "abalone.head()"
   ]
  },
  {
   "cell_type": "markdown",
   "metadata": {},
   "source": [
    "Add feature names:"
   ]
  },
  {
   "cell_type": "code",
   "execution_count": 135,
   "metadata": {},
   "outputs": [],
   "source": [
    "abalone.columns = [\n",
    "    \"Sex\",\n",
    "    \"Length\",\n",
    "    \"Diameter\",\n",
    "    \"Height\",\n",
    "    \"Whole weight\",\n",
    "    \"Shucked weight\",\n",
    "    \"Viscera weight\",\n",
    "    \"Shell weight\",\n",
    "    \"Rings\",\n",
    "]"
   ]
  },
  {
   "cell_type": "code",
   "execution_count": 136,
   "metadata": {},
   "outputs": [
    {
     "data": {
      "text/html": [
       "<div>\n",
       "<style scoped>\n",
       "    .dataframe tbody tr th:only-of-type {\n",
       "        vertical-align: middle;\n",
       "    }\n",
       "\n",
       "    .dataframe tbody tr th {\n",
       "        vertical-align: top;\n",
       "    }\n",
       "\n",
       "    .dataframe thead th {\n",
       "        text-align: right;\n",
       "    }\n",
       "</style>\n",
       "<table border=\"1\" class=\"dataframe\">\n",
       "  <thead>\n",
       "    <tr style=\"text-align: right;\">\n",
       "      <th></th>\n",
       "      <th>Sex</th>\n",
       "      <th>Length</th>\n",
       "      <th>Diameter</th>\n",
       "      <th>Height</th>\n",
       "      <th>Whole weight</th>\n",
       "      <th>Shucked weight</th>\n",
       "      <th>Viscera weight</th>\n",
       "      <th>Shell weight</th>\n",
       "      <th>Rings</th>\n",
       "    </tr>\n",
       "  </thead>\n",
       "  <tbody>\n",
       "    <tr>\n",
       "      <th>0</th>\n",
       "      <td>M</td>\n",
       "      <td>0.455</td>\n",
       "      <td>0.365</td>\n",
       "      <td>0.095</td>\n",
       "      <td>0.5140</td>\n",
       "      <td>0.2245</td>\n",
       "      <td>0.1010</td>\n",
       "      <td>0.1500</td>\n",
       "      <td>15</td>\n",
       "    </tr>\n",
       "    <tr>\n",
       "      <th>1</th>\n",
       "      <td>M</td>\n",
       "      <td>0.350</td>\n",
       "      <td>0.265</td>\n",
       "      <td>0.090</td>\n",
       "      <td>0.2255</td>\n",
       "      <td>0.0995</td>\n",
       "      <td>0.0485</td>\n",
       "      <td>0.0700</td>\n",
       "      <td>7</td>\n",
       "    </tr>\n",
       "    <tr>\n",
       "      <th>2</th>\n",
       "      <td>F</td>\n",
       "      <td>0.530</td>\n",
       "      <td>0.420</td>\n",
       "      <td>0.135</td>\n",
       "      <td>0.6770</td>\n",
       "      <td>0.2565</td>\n",
       "      <td>0.1415</td>\n",
       "      <td>0.2100</td>\n",
       "      <td>9</td>\n",
       "    </tr>\n",
       "    <tr>\n",
       "      <th>3</th>\n",
       "      <td>M</td>\n",
       "      <td>0.440</td>\n",
       "      <td>0.365</td>\n",
       "      <td>0.125</td>\n",
       "      <td>0.5160</td>\n",
       "      <td>0.2155</td>\n",
       "      <td>0.1140</td>\n",
       "      <td>0.1550</td>\n",
       "      <td>10</td>\n",
       "    </tr>\n",
       "    <tr>\n",
       "      <th>4</th>\n",
       "      <td>I</td>\n",
       "      <td>0.330</td>\n",
       "      <td>0.255</td>\n",
       "      <td>0.080</td>\n",
       "      <td>0.2050</td>\n",
       "      <td>0.0895</td>\n",
       "      <td>0.0395</td>\n",
       "      <td>0.0550</td>\n",
       "      <td>7</td>\n",
       "    </tr>\n",
       "    <tr>\n",
       "      <th>...</th>\n",
       "      <td>...</td>\n",
       "      <td>...</td>\n",
       "      <td>...</td>\n",
       "      <td>...</td>\n",
       "      <td>...</td>\n",
       "      <td>...</td>\n",
       "      <td>...</td>\n",
       "      <td>...</td>\n",
       "      <td>...</td>\n",
       "    </tr>\n",
       "    <tr>\n",
       "      <th>4172</th>\n",
       "      <td>F</td>\n",
       "      <td>0.565</td>\n",
       "      <td>0.450</td>\n",
       "      <td>0.165</td>\n",
       "      <td>0.8870</td>\n",
       "      <td>0.3700</td>\n",
       "      <td>0.2390</td>\n",
       "      <td>0.2490</td>\n",
       "      <td>11</td>\n",
       "    </tr>\n",
       "    <tr>\n",
       "      <th>4173</th>\n",
       "      <td>M</td>\n",
       "      <td>0.590</td>\n",
       "      <td>0.440</td>\n",
       "      <td>0.135</td>\n",
       "      <td>0.9660</td>\n",
       "      <td>0.4390</td>\n",
       "      <td>0.2145</td>\n",
       "      <td>0.2605</td>\n",
       "      <td>10</td>\n",
       "    </tr>\n",
       "    <tr>\n",
       "      <th>4174</th>\n",
       "      <td>M</td>\n",
       "      <td>0.600</td>\n",
       "      <td>0.475</td>\n",
       "      <td>0.205</td>\n",
       "      <td>1.1760</td>\n",
       "      <td>0.5255</td>\n",
       "      <td>0.2875</td>\n",
       "      <td>0.3080</td>\n",
       "      <td>9</td>\n",
       "    </tr>\n",
       "    <tr>\n",
       "      <th>4175</th>\n",
       "      <td>F</td>\n",
       "      <td>0.625</td>\n",
       "      <td>0.485</td>\n",
       "      <td>0.150</td>\n",
       "      <td>1.0945</td>\n",
       "      <td>0.5310</td>\n",
       "      <td>0.2610</td>\n",
       "      <td>0.2960</td>\n",
       "      <td>10</td>\n",
       "    </tr>\n",
       "    <tr>\n",
       "      <th>4176</th>\n",
       "      <td>M</td>\n",
       "      <td>0.710</td>\n",
       "      <td>0.555</td>\n",
       "      <td>0.195</td>\n",
       "      <td>1.9485</td>\n",
       "      <td>0.9455</td>\n",
       "      <td>0.3765</td>\n",
       "      <td>0.4950</td>\n",
       "      <td>12</td>\n",
       "    </tr>\n",
       "  </tbody>\n",
       "</table>\n",
       "<p>4177 rows × 9 columns</p>\n",
       "</div>"
      ],
      "text/plain": [
       "     Sex  Length  Diameter  Height  Whole weight  Shucked weight  \\\n",
       "0      M   0.455     0.365   0.095        0.5140          0.2245   \n",
       "1      M   0.350     0.265   0.090        0.2255          0.0995   \n",
       "2      F   0.530     0.420   0.135        0.6770          0.2565   \n",
       "3      M   0.440     0.365   0.125        0.5160          0.2155   \n",
       "4      I   0.330     0.255   0.080        0.2050          0.0895   \n",
       "...   ..     ...       ...     ...           ...             ...   \n",
       "4172   F   0.565     0.450   0.165        0.8870          0.3700   \n",
       "4173   M   0.590     0.440   0.135        0.9660          0.4390   \n",
       "4174   M   0.600     0.475   0.205        1.1760          0.5255   \n",
       "4175   F   0.625     0.485   0.150        1.0945          0.5310   \n",
       "4176   M   0.710     0.555   0.195        1.9485          0.9455   \n",
       "\n",
       "      Viscera weight  Shell weight  Rings  \n",
       "0             0.1010        0.1500     15  \n",
       "1             0.0485        0.0700      7  \n",
       "2             0.1415        0.2100      9  \n",
       "3             0.1140        0.1550     10  \n",
       "4             0.0395        0.0550      7  \n",
       "...              ...           ...    ...  \n",
       "4172          0.2390        0.2490     11  \n",
       "4173          0.2145        0.2605     10  \n",
       "4174          0.2875        0.3080      9  \n",
       "4175          0.2610        0.2960     10  \n",
       "4176          0.3765        0.4950     12  \n",
       "\n",
       "[4177 rows x 9 columns]"
      ]
     },
     "execution_count": 136,
     "metadata": {},
     "output_type": "execute_result"
    }
   ],
   "source": [
    "abalone"
   ]
  },
  {
   "cell_type": "markdown",
   "metadata": {},
   "source": [
    "Since sex is not a purely physical measure, we remove it from the dataset. "
   ]
  },
  {
   "cell_type": "code",
   "execution_count": 137,
   "metadata": {},
   "outputs": [],
   "source": [
    "abalone = abalone.drop(\"Sex\", axis=1)"
   ]
  },
  {
   "cell_type": "markdown",
   "metadata": {},
   "source": [
    "The target variable is Rings. A histogram will give a quick and useful overview of the age ranges."
   ]
  },
  {
   "cell_type": "code",
   "execution_count": 138,
   "metadata": {},
   "outputs": [
    {
     "data": {
      "image/png": "[encoded data removed]",
      "text/plain": [
       "<Figure size 432x288 with 1 Axes>"
      ]
     },
     "metadata": {
      "needs_background": "light"
     },
     "output_type": "display_data"
    }
   ],
   "source": [
    "import matplotlib.pyplot as plt\n",
    "abalone[\"Rings\"].hist(bins=15)\n",
    "plt.show()"
   ]
  },
  {
   "cell_type": "markdown",
   "metadata": {},
   "source": [
    "### Data Preparation"
   ]
  },
  {
   "cell_type": "code",
   "execution_count": 139,
   "metadata": {},
   "outputs": [],
   "source": [
    "X = abalone.drop(\"Rings\", axis=1)\n",
    "y = abalone[\"Rings\"]"
   ]
  },
  {
   "cell_type": "markdown",
   "metadata": {},
   "source": [
    "Use ``MinMaxScalar`` to normalize data."
   ]
  },
  {
   "cell_type": "code",
   "execution_count": 140,
   "metadata": {},
   "outputs": [],
   "source": [
    "from sklearn.preprocessing import MinMaxScaler\n",
    "scaler = MinMaxScaler()"
   ]
  },
  {
   "cell_type": "code",
   "execution_count": 141,
   "metadata": {},
   "outputs": [],
   "source": [
    "scaler.fit(X)\n",
    "X_scaler = scaler.transform(X)"
   ]
  },
  {
   "cell_type": "code",
   "execution_count": 142,
   "metadata": {},
   "outputs": [],
   "source": [
    "from sklearn.model_selection import train_test_split\n",
    "X_train, X_test, y_train, y_test = train_test_split(\n",
    "    X_scaler, y, test_size=0.2, random_state=12345\n",
    ")"
   ]
  },
  {
   "cell_type": "code",
   "execution_count": 143,
   "metadata": {},
   "outputs": [],
   "source": [
    "from sklearn.neighbors import KNeighborsRegressor\n",
    "knn_model = KNeighborsRegressor(n_neighbors=3)"
   ]
  },
  {
   "cell_type": "code",
   "execution_count": 144,
   "metadata": {},
   "outputs": [
    {
     "data": {
      "text/plain": [
       "KNeighborsRegressor(n_neighbors=3)"
      ]
     },
     "execution_count": 144,
     "metadata": {},
     "output_type": "execute_result"
    }
   ],
   "source": [
    "knn_model.fit(X_train, y_train)"
   ]
  },
  {
   "cell_type": "code",
   "execution_count": 145,
   "metadata": {},
   "outputs": [
    {
     "name": "stdout",
     "output_type": "stream",
     "text": [
      "Test RMSE:  2.3861364161083864\n"
     ]
    }
   ],
   "source": [
    "test_preds = knn_model.predict(X_test)\n",
    "test_mse = mean_squared_error(y_test, test_preds)\n",
    "print('Test RMSE: ', sqrt(test_mse))"
   ]
  },
  {
   "cell_type": "markdown",
   "metadata": {},
   "source": [
    "We can improve the performance using cross validation ``GridSearchCV`` to select hyperparameters:"
   ]
  },
  {
   "cell_type": "code",
   "execution_count": 146,
   "metadata": {},
   "outputs": [
    {
     "name": "stdout",
     "output_type": "stream",
     "text": [
      "Fitting 5 folds for each of 98 candidates, totalling 490 fits\n",
      "[CV 1/5] END ................n_neighbors=1, p=1;, score=0.188 total time=   0.0s\n",
      "[CV 2/5] END ................n_neighbors=1, p=1;, score=0.148 total time=   0.0s\n",
      "[CV 3/5] END ................n_neighbors=1, p=1;, score=0.135 total time=   0.0s\n",
      "[CV 4/5] END ................n_neighbors=1, p=1;, score=0.164 total time=   0.0s\n",
      "[CV 5/5] END ................n_neighbors=1, p=1;, score=0.215 total time=   0.0s\n",
      "[CV 1/5] END ................n_neighbors=1, p=2;, score=0.122 total time=   0.0s\n",
      "[CV 2/5] END ................n_neighbors=1, p=2;, score=0.189 total time=   0.0s\n",
      "[CV 3/5] END ................n_neighbors=1, p=2;, score=0.184 total time=   0.0s\n",
      "[CV 4/5] END ................n_neighbors=1, p=2;, score=0.195 total time=   0.0s\n",
      "[CV 5/5] END ................n_neighbors=1, p=2;, score=0.241 total time=   0.0s\n",
      "[CV 1/5] END ................n_neighbors=2, p=1;, score=0.341 total time=   0.0s\n",
      "[CV 2/5] END ................n_neighbors=2, p=1;, score=0.394 total time=   0.0s\n",
      "[CV 3/5] END ................n_neighbors=2, p=1;, score=0.374 total time=   0.0s\n",
      "[CV 4/5] END ................n_neighbors=2, p=1;, score=0.371 total time=   0.0s\n",
      "[CV 5/5] END ................n_neighbors=2, p=1;, score=0.393 total time=   0.0s\n",
      "[CV 1/5] END ................n_neighbors=2, p=2;, score=0.319 total time=   0.0s\n",
      "[CV 2/5] END ................n_neighbors=2, p=2;, score=0.399 total time=   0.0s\n",
      "[CV 3/5] END ................n_neighbors=2, p=2;, score=0.384 total time=   0.0s\n",
      "[CV 4/5] END ................n_neighbors=2, p=2;, score=0.367 total time=   0.0s\n",
      "[CV 5/5] END ................n_neighbors=2, p=2;, score=0.391 total time=   0.0s\n",
      "[CV 1/5] END ................n_neighbors=3, p=1;, score=0.383 total time=   0.0s\n",
      "[CV 2/5] END ................n_neighbors=3, p=1;, score=0.435 total time=   0.0s\n",
      "[CV 3/5] END ................n_neighbors=3, p=1;, score=0.470 total time=   0.0s\n",
      "[CV 4/5] END ................n_neighbors=3, p=1;, score=0.453 total time=   0.0s\n",
      "[CV 5/5] END ................n_neighbors=3, p=1;, score=0.427 total time=   0.0s\n",
      "[CV 1/5] END ................n_neighbors=3, p=2;, score=0.369 total time=   0.0s\n",
      "[CV 2/5] END ................n_neighbors=3, p=2;, score=0.473 total time=   0.0s\n",
      "[CV 3/5] END ................n_neighbors=3, p=2;, score=0.473 total time=   0.0s\n",
      "[CV 4/5] END ................n_neighbors=3, p=2;, score=0.438 total time=   0.0s\n",
      "[CV 5/5] END ................n_neighbors=3, p=2;, score=0.455 total time=   0.0s\n",
      "[CV 1/5] END ................n_neighbors=4, p=1;, score=0.420 total time=   0.0s\n",
      "[CV 2/5] END ................n_neighbors=4, p=1;, score=0.458 total time=   0.0s\n",
      "[CV 3/5] END ................n_neighbors=4, p=1;, score=0.485 total time=   0.0s\n",
      "[CV 4/5] END ................n_neighbors=4, p=1;, score=0.470 total time=   0.0s\n",
      "[CV 5/5] END ................n_neighbors=4, p=1;, score=0.462 total time=   0.0s\n",
      "[CV 1/5] END ................n_neighbors=4, p=2;, score=0.406 total time=   0.0s\n",
      "[CV 2/5] END ................n_neighbors=4, p=2;, score=0.487 total time=   0.0s\n",
      "[CV 3/5] END ................n_neighbors=4, p=2;, score=0.486 total time=   0.0s\n",
      "[CV 4/5] END ................n_neighbors=4, p=2;, score=0.477 total time=   0.0s\n",
      "[CV 5/5] END ................n_neighbors=4, p=2;, score=0.490 total time=   0.0s\n",
      "[CV 1/5] END ................n_neighbors=5, p=1;, score=0.436 total time=   0.0s\n",
      "[CV 2/5] END ................n_neighbors=5, p=1;, score=0.477 total time=   0.0s\n",
      "[CV 3/5] END ................n_neighbors=5, p=1;, score=0.497 total time=   0.0s\n",
      "[CV 4/5] END ................n_neighbors=5, p=1;, score=0.507 total time=   0.0s\n",
      "[CV 5/5] END ................n_neighbors=5, p=1;, score=0.486 total time=   0.0s\n",
      "[CV 1/5] END ................n_neighbors=5, p=2;, score=0.435 total time=   0.0s\n",
      "[CV 2/5] END ................n_neighbors=5, p=2;, score=0.506 total time=   0.0s\n",
      "[CV 3/5] END ................n_neighbors=5, p=2;, score=0.513 total time=   0.0s\n",
      "[CV 4/5] END ................n_neighbors=5, p=2;, score=0.495 total time=   0.0s\n",
      "[CV 5/5] END ................n_neighbors=5, p=2;, score=0.499 total time=   0.0s\n",
      "[CV 1/5] END ................n_neighbors=6, p=1;, score=0.458 total time=   0.0s\n",
      "[CV 2/5] END ................n_neighbors=6, p=1;, score=0.491 total time=   0.0s\n",
      "[CV 3/5] END ................n_neighbors=6, p=1;, score=0.504 total time=   0.0s\n",
      "[CV 4/5] END ................n_neighbors=6, p=1;, score=0.524 total time=   0.0s\n",
      "[CV 5/5] END ................n_neighbors=6, p=1;, score=0.502 total time=   0.0s\n",
      "[CV 1/5] END ................n_neighbors=6, p=2;, score=0.466 total time=   0.0s\n",
      "[CV 2/5] END ................n_neighbors=6, p=2;, score=0.510 total time=   0.0s\n",
      "[CV 3/5] END ................n_neighbors=6, p=2;, score=0.526 total time=   0.0s\n",
      "[CV 4/5] END ................n_neighbors=6, p=2;, score=0.516 total time=   0.0s\n",
      "[CV 5/5] END ................n_neighbors=6, p=2;, score=0.524 total time=   0.0s\n",
      "[CV 1/5] END ................n_neighbors=7, p=1;, score=0.466 total time=   0.0s\n",
      "[CV 2/5] END ................n_neighbors=7, p=1;, score=0.495 total time=   0.0s\n",
      "[CV 3/5] END ................n_neighbors=7, p=1;, score=0.515 total time=   0.0s\n",
      "[CV 4/5] END ................n_neighbors=7, p=1;, score=0.537 total time=   0.0s\n",
      "[CV 5/5] END ................n_neighbors=7, p=1;, score=0.512 total time=   0.0s\n",
      "[CV 1/5] END ................n_neighbors=7, p=2;, score=0.488 total time=   0.0s\n",
      "[CV 2/5] END ................n_neighbors=7, p=2;, score=0.516 total time=   0.0s\n",
      "[CV 3/5] END ................n_neighbors=7, p=2;, score=0.528 total time=   0.0s\n",
      "[CV 4/5] END ................n_neighbors=7, p=2;, score=0.526 total time=   0.0s\n",
      "[CV 5/5] END ................n_neighbors=7, p=2;, score=0.537 total time=   0.0s\n",
      "[CV 1/5] END ................n_neighbors=8, p=1;, score=0.477 total time=   0.0s\n",
      "[CV 2/5] END ................n_neighbors=8, p=1;, score=0.507 total time=   0.0s\n",
      "[CV 3/5] END ................n_neighbors=8, p=1;, score=0.510 total time=   0.0s\n",
      "[CV 4/5] END ................n_neighbors=8, p=1;, score=0.536 total time=   0.0s\n",
      "[CV 5/5] END ................n_neighbors=8, p=1;, score=0.520 total time=   0.0s\n",
      "[CV 1/5] END ................n_neighbors=8, p=2;, score=0.488 total time=   0.0s\n",
      "[CV 2/5] END ................n_neighbors=8, p=2;, score=0.517 total time=   0.0s\n",
      "[CV 3/5] END ................n_neighbors=8, p=2;, score=0.531 total time=   0.0s\n",
      "[CV 4/5] END ................n_neighbors=8, p=2;, score=0.546 total time=   0.0s\n",
      "[CV 5/5] END ................n_neighbors=8, p=2;, score=0.545 total time=   0.0s\n",
      "[CV 1/5] END ................n_neighbors=9, p=1;, score=0.489 total time=   0.0s\n",
      "[CV 2/5] END ................n_neighbors=9, p=1;, score=0.515 total time=   0.0s\n",
      "[CV 3/5] END ................n_neighbors=9, p=1;, score=0.513 total time=   0.0s\n",
      "[CV 4/5] END ................n_neighbors=9, p=1;, score=0.537 total time=   0.0s\n",
      "[CV 5/5] END ................n_neighbors=9, p=1;, score=0.527 total time=   0.0s\n",
      "[CV 1/5] END ................n_neighbors=9, p=2;, score=0.494 total time=   0.0s\n",
      "[CV 2/5] END ................n_neighbors=9, p=2;, score=0.516 total time=   0.0s\n",
      "[CV 3/5] END ................n_neighbors=9, p=2;, score=0.537 total time=   0.0s\n",
      "[CV 4/5] END ................n_neighbors=9, p=2;, score=0.540 total time=   0.0s\n",
      "[CV 5/5] END ................n_neighbors=9, p=2;, score=0.545 total time=   0.0s\n",
      "[CV 1/5] END ...............n_neighbors=10, p=1;, score=0.497 total time=   0.0s\n",
      "[CV 2/5] END ...............n_neighbors=10, p=1;, score=0.516 total time=   0.0s\n",
      "[CV 3/5] END ...............n_neighbors=10, p=1;, score=0.517 total time=   0.0s\n",
      "[CV 4/5] END ...............n_neighbors=10, p=1;, score=0.538 total time=   0.0s\n",
      "[CV 5/5] END ...............n_neighbors=10, p=1;, score=0.537 total time=   0.0s\n",
      "[CV 1/5] END ...............n_neighbors=10, p=2;, score=0.494 total time=   0.0s\n",
      "[CV 2/5] END ...............n_neighbors=10, p=2;, score=0.519 total time=   0.0s\n",
      "[CV 3/5] END ...............n_neighbors=10, p=2;, score=0.535 total time=   0.0s\n",
      "[CV 4/5] END ...............n_neighbors=10, p=2;, score=0.540 total time=   0.0s\n",
      "[CV 5/5] END ...............n_neighbors=10, p=2;, score=0.549 total time=   0.0s\n",
      "[CV 1/5] END ...............n_neighbors=11, p=1;, score=0.499 total time=   0.0s\n",
      "[CV 2/5] END ...............n_neighbors=11, p=1;, score=0.522 total time=   0.0s\n",
      "[CV 3/5] END ...............n_neighbors=11, p=1;, score=0.524 total time=   0.0s\n",
      "[CV 4/5] END ...............n_neighbors=11, p=1;, score=0.539 total time=   0.0s\n",
      "[CV 5/5] END ...............n_neighbors=11, p=1;, score=0.539 total time=   0.0s\n",
      "[CV 1/5] END ...............n_neighbors=11, p=2;, score=0.495 total time=   0.0s\n",
      "[CV 2/5] END ...............n_neighbors=11, p=2;, score=0.525 total time=   0.0s\n",
      "[CV 3/5] END ...............n_neighbors=11, p=2;, score=0.533 total time=   0.0s\n",
      "[CV 4/5] END ...............n_neighbors=11, p=2;, score=0.542 total time=   0.0s\n",
      "[CV 5/5] END ...............n_neighbors=11, p=2;, score=0.547 total time=   0.0s\n",
      "[CV 1/5] END ...............n_neighbors=12, p=1;, score=0.505 total time=   0.0s\n",
      "[CV 2/5] END ...............n_neighbors=12, p=1;, score=0.519 total time=   0.0s\n",
      "[CV 3/5] END ...............n_neighbors=12, p=1;, score=0.527 total time=   0.0s\n",
      "[CV 4/5] END ...............n_neighbors=12, p=1;, score=0.542 total time=   0.0s\n",
      "[CV 5/5] END ...............n_neighbors=12, p=1;, score=0.545 total time=   0.0s\n",
      "[CV 1/5] END ...............n_neighbors=12, p=2;, score=0.492 total time=   0.0s\n",
      "[CV 2/5] END ...............n_neighbors=12, p=2;, score=0.530 total time=   0.0s\n"
     ]
    },
    {
     "name": "stdout",
     "output_type": "stream",
     "text": [
      "[CV 3/5] END ...............n_neighbors=12, p=2;, score=0.530 total time=   0.0s\n",
      "[CV 4/5] END ...............n_neighbors=12, p=2;, score=0.547 total time=   0.0s\n",
      "[CV 5/5] END ...............n_neighbors=12, p=2;, score=0.547 total time=   0.0s\n",
      "[CV 1/5] END ...............n_neighbors=13, p=1;, score=0.503 total time=   0.0s\n",
      "[CV 2/5] END ...............n_neighbors=13, p=1;, score=0.526 total time=   0.0s\n",
      "[CV 3/5] END ...............n_neighbors=13, p=1;, score=0.529 total time=   0.0s\n",
      "[CV 4/5] END ...............n_neighbors=13, p=1;, score=0.545 total time=   0.0s\n",
      "[CV 5/5] END ...............n_neighbors=13, p=1;, score=0.554 total time=   0.0s\n",
      "[CV 1/5] END ...............n_neighbors=13, p=2;, score=0.502 total time=   0.0s\n",
      "[CV 2/5] END ...............n_neighbors=13, p=2;, score=0.526 total time=   0.0s\n",
      "[CV 3/5] END ...............n_neighbors=13, p=2;, score=0.532 total time=   0.0s\n",
      "[CV 4/5] END ...............n_neighbors=13, p=2;, score=0.545 total time=   0.0s\n",
      "[CV 5/5] END ...............n_neighbors=13, p=2;, score=0.549 total time=   0.0s\n",
      "[CV 1/5] END ...............n_neighbors=14, p=1;, score=0.504 total time=   0.0s\n",
      "[CV 2/5] END ...............n_neighbors=14, p=1;, score=0.529 total time=   0.0s\n",
      "[CV 3/5] END ...............n_neighbors=14, p=1;, score=0.529 total time=   0.0s\n",
      "[CV 4/5] END ...............n_neighbors=14, p=1;, score=0.549 total time=   0.0s\n",
      "[CV 5/5] END ...............n_neighbors=14, p=1;, score=0.554 total time=   0.0s\n",
      "[CV 1/5] END ...............n_neighbors=14, p=2;, score=0.502 total time=   0.0s\n",
      "[CV 2/5] END ...............n_neighbors=14, p=2;, score=0.524 total time=   0.0s\n",
      "[CV 3/5] END ...............n_neighbors=14, p=2;, score=0.535 total time=   0.0s\n",
      "[CV 4/5] END ...............n_neighbors=14, p=2;, score=0.548 total time=   0.0s\n",
      "[CV 5/5] END ...............n_neighbors=14, p=2;, score=0.551 total time=   0.0s\n",
      "[CV 1/5] END ...............n_neighbors=15, p=1;, score=0.504 total time=   0.0s\n",
      "[CV 2/5] END ...............n_neighbors=15, p=1;, score=0.529 total time=   0.0s\n",
      "[CV 3/5] END ...............n_neighbors=15, p=1;, score=0.524 total time=   0.0s\n",
      "[CV 4/5] END ...............n_neighbors=15, p=1;, score=0.551 total time=   0.0s\n",
      "[CV 5/5] END ...............n_neighbors=15, p=1;, score=0.549 total time=   0.0s\n",
      "[CV 1/5] END ...............n_neighbors=15, p=2;, score=0.508 total time=   0.0s\n",
      "[CV 2/5] END ...............n_neighbors=15, p=2;, score=0.520 total time=   0.0s\n",
      "[CV 3/5] END ...............n_neighbors=15, p=2;, score=0.531 total time=   0.0s\n",
      "[CV 4/5] END ...............n_neighbors=15, p=2;, score=0.544 total time=   0.0s\n",
      "[CV 5/5] END ...............n_neighbors=15, p=2;, score=0.549 total time=   0.0s\n",
      "[CV 1/5] END ...............n_neighbors=16, p=1;, score=0.500 total time=   0.0s\n",
      "[CV 2/5] END ...............n_neighbors=16, p=1;, score=0.528 total time=   0.0s\n",
      "[CV 3/5] END ...............n_neighbors=16, p=1;, score=0.525 total time=   0.0s\n",
      "[CV 4/5] END ...............n_neighbors=16, p=1;, score=0.549 total time=   0.0s\n",
      "[CV 5/5] END ...............n_neighbors=16, p=1;, score=0.545 total time=   0.0s\n",
      "[CV 1/5] END ...............n_neighbors=16, p=2;, score=0.509 total time=   0.0s\n",
      "[CV 2/5] END ...............n_neighbors=16, p=2;, score=0.519 total time=   0.0s\n",
      "[CV 3/5] END ...............n_neighbors=16, p=2;, score=0.533 total time=   0.0s\n",
      "[CV 4/5] END ...............n_neighbors=16, p=2;, score=0.548 total time=   0.0s\n",
      "[CV 5/5] END ...............n_neighbors=16, p=2;, score=0.546 total time=   0.0s\n",
      "[CV 1/5] END ...............n_neighbors=17, p=1;, score=0.500 total time=   0.0s\n",
      "[CV 2/5] END ...............n_neighbors=17, p=1;, score=0.530 total time=   0.0s\n",
      "[CV 3/5] END ...............n_neighbors=17, p=1;, score=0.528 total time=   0.0s\n",
      "[CV 4/5] END ...............n_neighbors=17, p=1;, score=0.552 total time=   0.0s\n",
      "[CV 5/5] END ...............n_neighbors=17, p=1;, score=0.545 total time=   0.0s\n",
      "[CV 1/5] END ...............n_neighbors=17, p=2;, score=0.507 total time=   0.0s\n",
      "[CV 2/5] END ...............n_neighbors=17, p=2;, score=0.518 total time=   0.0s\n",
      "[CV 3/5] END ...............n_neighbors=17, p=2;, score=0.530 total time=   0.0s\n",
      "[CV 4/5] END ...............n_neighbors=17, p=2;, score=0.550 total time=   0.0s\n",
      "[CV 5/5] END ...............n_neighbors=17, p=2;, score=0.548 total time=   0.0s\n",
      "[CV 1/5] END ...............n_neighbors=18, p=1;, score=0.501 total time=   0.0s\n",
      "[CV 2/5] END ...............n_neighbors=18, p=1;, score=0.528 total time=   0.0s\n",
      "[CV 3/5] END ...............n_neighbors=18, p=1;, score=0.527 total time=   0.0s\n",
      "[CV 4/5] END ...............n_neighbors=18, p=1;, score=0.552 total time=   0.0s\n",
      "[CV 5/5] END ...............n_neighbors=18, p=1;, score=0.551 total time=   0.0s\n",
      "[CV 1/5] END ...............n_neighbors=18, p=2;, score=0.512 total time=   0.0s\n",
      "[CV 2/5] END ...............n_neighbors=18, p=2;, score=0.523 total time=   0.0s\n",
      "[CV 3/5] END ...............n_neighbors=18, p=2;, score=0.529 total time=   0.0s\n",
      "[CV 4/5] END ...............n_neighbors=18, p=2;, score=0.549 total time=   0.0s\n",
      "[CV 5/5] END ...............n_neighbors=18, p=2;, score=0.553 total time=   0.0s\n",
      "[CV 1/5] END ...............n_neighbors=19, p=1;, score=0.501 total time=   0.0s\n",
      "[CV 2/5] END ...............n_neighbors=19, p=1;, score=0.529 total time=   0.0s\n",
      "[CV 3/5] END ...............n_neighbors=19, p=1;, score=0.528 total time=   0.0s\n",
      "[CV 4/5] END ...............n_neighbors=19, p=1;, score=0.550 total time=   0.0s\n",
      "[CV 5/5] END ...............n_neighbors=19, p=1;, score=0.558 total time=   0.0s\n",
      "[CV 1/5] END ...............n_neighbors=19, p=2;, score=0.510 total time=   0.0s\n",
      "[CV 2/5] END ...............n_neighbors=19, p=2;, score=0.526 total time=   0.0s\n",
      "[CV 3/5] END ...............n_neighbors=19, p=2;, score=0.533 total time=   0.0s\n",
      "[CV 4/5] END ...............n_neighbors=19, p=2;, score=0.549 total time=   0.0s\n",
      "[CV 5/5] END ...............n_neighbors=19, p=2;, score=0.556 total time=   0.0s\n",
      "[CV 1/5] END ...............n_neighbors=20, p=1;, score=0.501 total time=   0.0s\n",
      "[CV 2/5] END ...............n_neighbors=20, p=1;, score=0.528 total time=   0.0s\n",
      "[CV 3/5] END ...............n_neighbors=20, p=1;, score=0.532 total time=   0.0s\n",
      "[CV 4/5] END ...............n_neighbors=20, p=1;, score=0.547 total time=   0.0s\n",
      "[CV 5/5] END ...............n_neighbors=20, p=1;, score=0.556 total time=   0.0s\n",
      "[CV 1/5] END ...............n_neighbors=20, p=2;, score=0.506 total time=   0.0s\n",
      "[CV 2/5] END ...............n_neighbors=20, p=2;, score=0.524 total time=   0.0s\n",
      "[CV 3/5] END ...............n_neighbors=20, p=2;, score=0.532 total time=   0.0s\n",
      "[CV 4/5] END ...............n_neighbors=20, p=2;, score=0.550 total time=   0.0s\n",
      "[CV 5/5] END ...............n_neighbors=20, p=2;, score=0.553 total time=   0.0s\n",
      "[CV 1/5] END ...............n_neighbors=21, p=1;, score=0.504 total time=   0.0s\n",
      "[CV 2/5] END ...............n_neighbors=21, p=1;, score=0.531 total time=   0.0s\n",
      "[CV 3/5] END ...............n_neighbors=21, p=1;, score=0.530 total time=   0.0s\n",
      "[CV 4/5] END ...............n_neighbors=21, p=1;, score=0.546 total time=   0.0s\n",
      "[CV 5/5] END ...............n_neighbors=21, p=1;, score=0.556 total time=   0.0s\n",
      "[CV 1/5] END ...............n_neighbors=21, p=2;, score=0.506 total time=   0.0s\n",
      "[CV 2/5] END ...............n_neighbors=21, p=2;, score=0.523 total time=   0.0s\n",
      "[CV 3/5] END ...............n_neighbors=21, p=2;, score=0.529 total time=   0.0s\n",
      "[CV 4/5] END ...............n_neighbors=21, p=2;, score=0.549 total time=   0.0s\n",
      "[CV 5/5] END ...............n_neighbors=21, p=2;, score=0.555 total time=   0.0s\n",
      "[CV 1/5] END ...............n_neighbors=22, p=1;, score=0.506 total time=   0.0s\n",
      "[CV 2/5] END ...............n_neighbors=22, p=1;, score=0.532 total time=   0.0s\n",
      "[CV 3/5] END ...............n_neighbors=22, p=1;, score=0.530 total time=   0.0s\n",
      "[CV 4/5] END ...............n_neighbors=22, p=1;, score=0.544 total time=   0.0s\n",
      "[CV 5/5] END ...............n_neighbors=22, p=1;, score=0.554 total time=   0.0s\n",
      "[CV 1/5] END ...............n_neighbors=22, p=2;, score=0.506 total time=   0.0s\n",
      "[CV 2/5] END ...............n_neighbors=22, p=2;, score=0.522 total time=   0.0s\n",
      "[CV 3/5] END ...............n_neighbors=22, p=2;, score=0.532 total time=   0.0s\n",
      "[CV 4/5] END ...............n_neighbors=22, p=2;, score=0.549 total time=   0.0s\n",
      "[CV 5/5] END ...............n_neighbors=22, p=2;, score=0.555 total time=   0.0s\n",
      "[CV 1/5] END ...............n_neighbors=23, p=1;, score=0.507 total time=   0.0s\n",
      "[CV 2/5] END ...............n_neighbors=23, p=1;, score=0.528 total time=   0.0s\n",
      "[CV 3/5] END ...............n_neighbors=23, p=1;, score=0.529 total time=   0.0s\n",
      "[CV 4/5] END ...............n_neighbors=23, p=1;, score=0.543 total time=   0.0s\n",
      "[CV 5/5] END ...............n_neighbors=23, p=1;, score=0.556 total time=   0.0s\n",
      "[CV 1/5] END ...............n_neighbors=23, p=2;, score=0.505 total time=   0.0s\n",
      "[CV 2/5] END ...............n_neighbors=23, p=2;, score=0.523 total time=   0.0s\n",
      "[CV 3/5] END ...............n_neighbors=23, p=2;, score=0.529 total time=   0.0s\n",
      "[CV 4/5] END ...............n_neighbors=23, p=2;, score=0.545 total time=   0.0s\n",
      "[CV 5/5] END ...............n_neighbors=23, p=2;, score=0.558 total time=   0.0s\n",
      "[CV 1/5] END ...............n_neighbors=24, p=1;, score=0.507 total time=   0.0s\n",
      "[CV 2/5] END ...............n_neighbors=24, p=1;, score=0.532 total time=   0.0s\n",
      "[CV 3/5] END ...............n_neighbors=24, p=1;, score=0.531 total time=   0.0s\n",
      "[CV 4/5] END ...............n_neighbors=24, p=1;, score=0.542 total time=   0.0s\n"
     ]
    },
    {
     "name": "stdout",
     "output_type": "stream",
     "text": [
      "[CV 5/5] END ...............n_neighbors=24, p=1;, score=0.556 total time=   0.0s\n",
      "[CV 1/5] END ...............n_neighbors=24, p=2;, score=0.506 total time=   0.0s\n",
      "[CV 2/5] END ...............n_neighbors=24, p=2;, score=0.523 total time=   0.0s\n",
      "[CV 3/5] END ...............n_neighbors=24, p=2;, score=0.530 total time=   0.0s\n",
      "[CV 4/5] END ...............n_neighbors=24, p=2;, score=0.544 total time=   0.0s\n",
      "[CV 5/5] END ...............n_neighbors=24, p=2;, score=0.559 total time=   0.0s\n",
      "[CV 1/5] END ...............n_neighbors=25, p=1;, score=0.509 total time=   0.0s\n",
      "[CV 2/5] END ...............n_neighbors=25, p=1;, score=0.532 total time=   0.0s\n",
      "[CV 3/5] END ...............n_neighbors=25, p=1;, score=0.531 total time=   0.0s\n",
      "[CV 4/5] END ...............n_neighbors=25, p=1;, score=0.540 total time=   0.0s\n",
      "[CV 5/5] END ...............n_neighbors=25, p=1;, score=0.555 total time=   0.0s\n",
      "[CV 1/5] END ...............n_neighbors=25, p=2;, score=0.505 total time=   0.0s\n",
      "[CV 2/5] END ...............n_neighbors=25, p=2;, score=0.523 total time=   0.0s\n",
      "[CV 3/5] END ...............n_neighbors=25, p=2;, score=0.529 total time=   0.0s\n",
      "[CV 4/5] END ...............n_neighbors=25, p=2;, score=0.546 total time=   0.0s\n",
      "[CV 5/5] END ...............n_neighbors=25, p=2;, score=0.558 total time=   0.0s\n",
      "[CV 1/5] END ...............n_neighbors=26, p=1;, score=0.508 total time=   0.0s\n",
      "[CV 2/5] END ...............n_neighbors=26, p=1;, score=0.530 total time=   0.0s\n",
      "[CV 3/5] END ...............n_neighbors=26, p=1;, score=0.530 total time=   0.0s\n",
      "[CV 4/5] END ...............n_neighbors=26, p=1;, score=0.541 total time=   0.0s\n",
      "[CV 5/5] END ...............n_neighbors=26, p=1;, score=0.552 total time=   0.0s\n",
      "[CV 1/5] END ...............n_neighbors=26, p=2;, score=0.503 total time=   0.0s\n",
      "[CV 2/5] END ...............n_neighbors=26, p=2;, score=0.524 total time=   0.0s\n",
      "[CV 3/5] END ...............n_neighbors=26, p=2;, score=0.533 total time=   0.0s\n",
      "[CV 4/5] END ...............n_neighbors=26, p=2;, score=0.544 total time=   0.0s\n",
      "[CV 5/5] END ...............n_neighbors=26, p=2;, score=0.559 total time=   0.0s\n",
      "[CV 1/5] END ...............n_neighbors=27, p=1;, score=0.507 total time=   0.0s\n",
      "[CV 2/5] END ...............n_neighbors=27, p=1;, score=0.532 total time=   0.0s\n",
      "[CV 3/5] END ...............n_neighbors=27, p=1;, score=0.529 total time=   0.0s\n",
      "[CV 4/5] END ...............n_neighbors=27, p=1;, score=0.540 total time=   0.0s\n",
      "[CV 5/5] END ...............n_neighbors=27, p=1;, score=0.551 total time=   0.0s\n",
      "[CV 1/5] END ...............n_neighbors=27, p=2;, score=0.506 total time=   0.0s\n",
      "[CV 2/5] END ...............n_neighbors=27, p=2;, score=0.527 total time=   0.0s\n",
      "[CV 3/5] END ...............n_neighbors=27, p=2;, score=0.534 total time=   0.0s\n",
      "[CV 4/5] END ...............n_neighbors=27, p=2;, score=0.543 total time=   0.0s\n",
      "[CV 5/5] END ...............n_neighbors=27, p=2;, score=0.559 total time=   0.0s\n",
      "[CV 1/5] END ...............n_neighbors=28, p=1;, score=0.508 total time=   0.0s\n",
      "[CV 2/5] END ...............n_neighbors=28, p=1;, score=0.533 total time=   0.0s\n",
      "[CV 3/5] END ...............n_neighbors=28, p=1;, score=0.528 total time=   0.0s\n",
      "[CV 4/5] END ...............n_neighbors=28, p=1;, score=0.541 total time=   0.0s\n",
      "[CV 5/5] END ...............n_neighbors=28, p=1;, score=0.548 total time=   0.0s\n",
      "[CV 1/5] END ...............n_neighbors=28, p=2;, score=0.508 total time=   0.0s\n",
      "[CV 2/5] END ...............n_neighbors=28, p=2;, score=0.527 total time=   0.0s\n",
      "[CV 3/5] END ...............n_neighbors=28, p=2;, score=0.531 total time=   0.0s\n",
      "[CV 4/5] END ...............n_neighbors=28, p=2;, score=0.543 total time=   0.0s\n",
      "[CV 5/5] END ...............n_neighbors=28, p=2;, score=0.556 total time=   0.0s\n",
      "[CV 1/5] END ...............n_neighbors=29, p=1;, score=0.506 total time=   0.0s\n",
      "[CV 2/5] END ...............n_neighbors=29, p=1;, score=0.530 total time=   0.0s\n",
      "[CV 3/5] END ...............n_neighbors=29, p=1;, score=0.527 total time=   0.0s\n",
      "[CV 4/5] END ...............n_neighbors=29, p=1;, score=0.540 total time=   0.0s\n",
      "[CV 5/5] END ...............n_neighbors=29, p=1;, score=0.549 total time=   0.0s\n",
      "[CV 1/5] END ...............n_neighbors=29, p=2;, score=0.511 total time=   0.0s\n",
      "[CV 2/5] END ...............n_neighbors=29, p=2;, score=0.527 total time=   0.0s\n",
      "[CV 3/5] END ...............n_neighbors=29, p=2;, score=0.530 total time=   0.0s\n",
      "[CV 4/5] END ...............n_neighbors=29, p=2;, score=0.542 total time=   0.0s\n",
      "[CV 5/5] END ...............n_neighbors=29, p=2;, score=0.557 total time=   0.0s\n",
      "[CV 1/5] END ...............n_neighbors=30, p=1;, score=0.509 total time=   0.0s\n",
      "[CV 2/5] END ...............n_neighbors=30, p=1;, score=0.528 total time=   0.0s\n",
      "[CV 3/5] END ...............n_neighbors=30, p=1;, score=0.526 total time=   0.0s\n",
      "[CV 4/5] END ...............n_neighbors=30, p=1;, score=0.539 total time=   0.0s\n",
      "[CV 5/5] END ...............n_neighbors=30, p=1;, score=0.547 total time=   0.0s\n",
      "[CV 1/5] END ...............n_neighbors=30, p=2;, score=0.512 total time=   0.0s\n",
      "[CV 2/5] END ...............n_neighbors=30, p=2;, score=0.528 total time=   0.0s\n",
      "[CV 3/5] END ...............n_neighbors=30, p=2;, score=0.528 total time=   0.0s\n",
      "[CV 4/5] END ...............n_neighbors=30, p=2;, score=0.542 total time=   0.0s\n",
      "[CV 5/5] END ...............n_neighbors=30, p=2;, score=0.557 total time=   0.0s\n",
      "[CV 1/5] END ...............n_neighbors=31, p=1;, score=0.510 total time=   0.0s\n",
      "[CV 2/5] END ...............n_neighbors=31, p=1;, score=0.527 total time=   0.0s\n",
      "[CV 3/5] END ...............n_neighbors=31, p=1;, score=0.523 total time=   0.0s\n",
      "[CV 4/5] END ...............n_neighbors=31, p=1;, score=0.537 total time=   0.0s\n",
      "[CV 5/5] END ...............n_neighbors=31, p=1;, score=0.548 total time=   0.0s\n",
      "[CV 1/5] END ...............n_neighbors=31, p=2;, score=0.513 total time=   0.0s\n",
      "[CV 2/5] END ...............n_neighbors=31, p=2;, score=0.526 total time=   0.0s\n",
      "[CV 3/5] END ...............n_neighbors=31, p=2;, score=0.530 total time=   0.0s\n",
      "[CV 4/5] END ...............n_neighbors=31, p=2;, score=0.538 total time=   0.0s\n",
      "[CV 5/5] END ...............n_neighbors=31, p=2;, score=0.556 total time=   0.0s\n",
      "[CV 1/5] END ...............n_neighbors=32, p=1;, score=0.508 total time=   0.0s\n",
      "[CV 2/5] END ...............n_neighbors=32, p=1;, score=0.527 total time=   0.0s\n",
      "[CV 3/5] END ...............n_neighbors=32, p=1;, score=0.523 total time=   0.0s\n",
      "[CV 4/5] END ...............n_neighbors=32, p=1;, score=0.535 total time=   0.0s\n",
      "[CV 5/5] END ...............n_neighbors=32, p=1;, score=0.547 total time=   0.0s\n",
      "[CV 1/5] END ...............n_neighbors=32, p=2;, score=0.510 total time=   0.0s\n",
      "[CV 2/5] END ...............n_neighbors=32, p=2;, score=0.524 total time=   0.0s\n",
      "[CV 3/5] END ...............n_neighbors=32, p=2;, score=0.526 total time=   0.0s\n",
      "[CV 4/5] END ...............n_neighbors=32, p=2;, score=0.537 total time=   0.0s\n",
      "[CV 5/5] END ...............n_neighbors=32, p=2;, score=0.554 total time=   0.0s\n",
      "[CV 1/5] END ...............n_neighbors=33, p=1;, score=0.506 total time=   0.0s\n",
      "[CV 2/5] END ...............n_neighbors=33, p=1;, score=0.525 total time=   0.0s\n",
      "[CV 3/5] END ...............n_neighbors=33, p=1;, score=0.520 total time=   0.0s\n",
      "[CV 4/5] END ...............n_neighbors=33, p=1;, score=0.535 total time=   0.0s\n",
      "[CV 5/5] END ...............n_neighbors=33, p=1;, score=0.548 total time=   0.0s\n",
      "[CV 1/5] END ...............n_neighbors=33, p=2;, score=0.509 total time=   0.0s\n",
      "[CV 2/5] END ...............n_neighbors=33, p=2;, score=0.523 total time=   0.0s\n",
      "[CV 3/5] END ...............n_neighbors=33, p=2;, score=0.524 total time=   0.0s\n",
      "[CV 4/5] END ...............n_neighbors=33, p=2;, score=0.536 total time=   0.0s\n",
      "[CV 5/5] END ...............n_neighbors=33, p=2;, score=0.552 total time=   0.0s\n",
      "[CV 1/5] END ...............n_neighbors=34, p=1;, score=0.507 total time=   0.0s\n",
      "[CV 2/5] END ...............n_neighbors=34, p=1;, score=0.527 total time=   0.0s\n",
      "[CV 3/5] END ...............n_neighbors=34, p=1;, score=0.519 total time=   0.0s\n",
      "[CV 4/5] END ...............n_neighbors=34, p=1;, score=0.536 total time=   0.0s\n",
      "[CV 5/5] END ...............n_neighbors=34, p=1;, score=0.548 total time=   0.0s\n",
      "[CV 1/5] END ...............n_neighbors=34, p=2;, score=0.508 total time=   0.0s\n",
      "[CV 2/5] END ...............n_neighbors=34, p=2;, score=0.523 total time=   0.0s\n",
      "[CV 3/5] END ...............n_neighbors=34, p=2;, score=0.523 total time=   0.0s\n",
      "[CV 4/5] END ...............n_neighbors=34, p=2;, score=0.537 total time=   0.0s\n",
      "[CV 5/5] END ...............n_neighbors=34, p=2;, score=0.552 total time=   0.0s\n"
     ]
    },
    {
     "name": "stdout",
     "output_type": "stream",
     "text": [
      "[CV 1/5] END ...............n_neighbors=35, p=1;, score=0.506 total time=   0.0s\n",
      "[CV 2/5] END ...............n_neighbors=35, p=1;, score=0.526 total time=   0.0s\n",
      "[CV 3/5] END ...............n_neighbors=35, p=1;, score=0.517 total time=   0.0s\n",
      "[CV 4/5] END ...............n_neighbors=35, p=1;, score=0.535 total time=   0.0s\n",
      "[CV 5/5] END ...............n_neighbors=35, p=1;, score=0.547 total time=   0.0s\n",
      "[CV 1/5] END ...............n_neighbors=35, p=2;, score=0.507 total time=   0.0s\n",
      "[CV 2/5] END ...............n_neighbors=35, p=2;, score=0.522 total time=   0.0s\n",
      "[CV 3/5] END ...............n_neighbors=35, p=2;, score=0.524 total time=   0.0s\n",
      "[CV 4/5] END ...............n_neighbors=35, p=2;, score=0.535 total time=   0.0s\n",
      "[CV 5/5] END ...............n_neighbors=35, p=2;, score=0.554 total time=   0.0s\n",
      "[CV 1/5] END ...............n_neighbors=36, p=1;, score=0.504 total time=   0.0s\n",
      "[CV 2/5] END ...............n_neighbors=36, p=1;, score=0.524 total time=   0.0s\n",
      "[CV 3/5] END ...............n_neighbors=36, p=1;, score=0.517 total time=   0.0s\n",
      "[CV 4/5] END ...............n_neighbors=36, p=1;, score=0.533 total time=   0.0s\n",
      "[CV 5/5] END ...............n_neighbors=36, p=1;, score=0.546 total time=   0.0s\n",
      "[CV 1/5] END ...............n_neighbors=36, p=2;, score=0.508 total time=   0.0s\n",
      "[CV 2/5] END ...............n_neighbors=36, p=2;, score=0.521 total time=   0.0s\n",
      "[CV 3/5] END ...............n_neighbors=36, p=2;, score=0.522 total time=   0.0s\n",
      "[CV 4/5] END ...............n_neighbors=36, p=2;, score=0.533 total time=   0.0s\n",
      "[CV 5/5] END ...............n_neighbors=36, p=2;, score=0.554 total time=   0.0s\n",
      "[CV 1/5] END ...............n_neighbors=37, p=1;, score=0.504 total time=   0.0s\n",
      "[CV 2/5] END ...............n_neighbors=37, p=1;, score=0.523 total time=   0.0s\n",
      "[CV 3/5] END ...............n_neighbors=37, p=1;, score=0.518 total time=   0.0s\n",
      "[CV 4/5] END ...............n_neighbors=37, p=1;, score=0.533 total time=   0.0s\n",
      "[CV 5/5] END ...............n_neighbors=37, p=1;, score=0.546 total time=   0.0s\n",
      "[CV 1/5] END ...............n_neighbors=37, p=2;, score=0.508 total time=   0.0s\n",
      "[CV 2/5] END ...............n_neighbors=37, p=2;, score=0.524 total time=   0.0s\n",
      "[CV 3/5] END ...............n_neighbors=37, p=2;, score=0.524 total time=   0.0s\n",
      "[CV 4/5] END ...............n_neighbors=37, p=2;, score=0.532 total time=   0.0s\n",
      "[CV 5/5] END ...............n_neighbors=37, p=2;, score=0.552 total time=   0.0s\n",
      "[CV 1/5] END ...............n_neighbors=38, p=1;, score=0.504 total time=   0.0s\n",
      "[CV 2/5] END ...............n_neighbors=38, p=1;, score=0.521 total time=   0.0s\n",
      "[CV 3/5] END ...............n_neighbors=38, p=1;, score=0.518 total time=   0.0s\n",
      "[CV 4/5] END ...............n_neighbors=38, p=1;, score=0.530 total time=   0.0s\n",
      "[CV 5/5] END ...............n_neighbors=38, p=1;, score=0.545 total time=   0.0s\n",
      "[CV 1/5] END ...............n_neighbors=38, p=2;, score=0.510 total time=   0.0s\n",
      "[CV 2/5] END ...............n_neighbors=38, p=2;, score=0.522 total time=   0.0s\n",
      "[CV 3/5] END ...............n_neighbors=38, p=2;, score=0.522 total time=   0.0s\n",
      "[CV 4/5] END ...............n_neighbors=38, p=2;, score=0.532 total time=   0.0s\n",
      "[CV 5/5] END ...............n_neighbors=38, p=2;, score=0.549 total time=   0.0s\n",
      "[CV 1/5] END ...............n_neighbors=39, p=1;, score=0.502 total time=   0.0s\n",
      "[CV 2/5] END ...............n_neighbors=39, p=1;, score=0.520 total time=   0.0s\n",
      "[CV 3/5] END ...............n_neighbors=39, p=1;, score=0.516 total time=   0.0s\n",
      "[CV 4/5] END ...............n_neighbors=39, p=1;, score=0.528 total time=   0.0s\n",
      "[CV 5/5] END ...............n_neighbors=39, p=1;, score=0.544 total time=   0.0s\n",
      "[CV 1/5] END ...............n_neighbors=39, p=2;, score=0.508 total time=   0.0s\n",
      "[CV 2/5] END ...............n_neighbors=39, p=2;, score=0.520 total time=   0.0s\n",
      "[CV 3/5] END ...............n_neighbors=39, p=2;, score=0.520 total time=   0.0s\n",
      "[CV 4/5] END ...............n_neighbors=39, p=2;, score=0.532 total time=   0.0s\n",
      "[CV 5/5] END ...............n_neighbors=39, p=2;, score=0.549 total time=   0.0s\n",
      "[CV 1/5] END ...............n_neighbors=40, p=1;, score=0.501 total time=   0.0s\n",
      "[CV 2/5] END ...............n_neighbors=40, p=1;, score=0.519 total time=   0.0s\n",
      "[CV 3/5] END ...............n_neighbors=40, p=1;, score=0.515 total time=   0.0s\n",
      "[CV 4/5] END ...............n_neighbors=40, p=1;, score=0.528 total time=   0.0s\n",
      "[CV 5/5] END ...............n_neighbors=40, p=1;, score=0.544 total time=   0.0s\n",
      "[CV 1/5] END ...............n_neighbors=40, p=2;, score=0.507 total time=   0.0s\n",
      "[CV 2/5] END ...............n_neighbors=40, p=2;, score=0.519 total time=   0.0s\n",
      "[CV 3/5] END ...............n_neighbors=40, p=2;, score=0.517 total time=   0.0s\n",
      "[CV 4/5] END ...............n_neighbors=40, p=2;, score=0.532 total time=   0.0s\n",
      "[CV 5/5] END ...............n_neighbors=40, p=2;, score=0.548 total time=   0.0s\n",
      "[CV 1/5] END ...............n_neighbors=41, p=1;, score=0.501 total time=   0.0s\n",
      "[CV 2/5] END ...............n_neighbors=41, p=1;, score=0.518 total time=   0.0s\n",
      "[CV 3/5] END ...............n_neighbors=41, p=1;, score=0.515 total time=   0.0s\n",
      "[CV 4/5] END ...............n_neighbors=41, p=1;, score=0.528 total time=   0.0s\n",
      "[CV 5/5] END ...............n_neighbors=41, p=1;, score=0.544 total time=   0.0s\n",
      "[CV 1/5] END ...............n_neighbors=41, p=2;, score=0.507 total time=   0.0s\n",
      "[CV 2/5] END ...............n_neighbors=41, p=2;, score=0.519 total time=   0.0s\n",
      "[CV 3/5] END ...............n_neighbors=41, p=2;, score=0.515 total time=   0.0s\n",
      "[CV 4/5] END ...............n_neighbors=41, p=2;, score=0.533 total time=   0.0s\n",
      "[CV 5/5] END ...............n_neighbors=41, p=2;, score=0.548 total time=   0.0s\n",
      "[CV 1/5] END ...............n_neighbors=42, p=1;, score=0.501 total time=   0.0s\n",
      "[CV 2/5] END ...............n_neighbors=42, p=1;, score=0.517 total time=   0.0s\n",
      "[CV 3/5] END ...............n_neighbors=42, p=1;, score=0.515 total time=   0.0s\n",
      "[CV 4/5] END ...............n_neighbors=42, p=1;, score=0.526 total time=   0.0s\n",
      "[CV 5/5] END ...............n_neighbors=42, p=1;, score=0.542 total time=   0.0s\n",
      "[CV 1/5] END ...............n_neighbors=42, p=2;, score=0.507 total time=   0.0s\n",
      "[CV 2/5] END ...............n_neighbors=42, p=2;, score=0.518 total time=   0.0s\n",
      "[CV 3/5] END ...............n_neighbors=42, p=2;, score=0.516 total time=   0.0s\n",
      "[CV 4/5] END ...............n_neighbors=42, p=2;, score=0.531 total time=   0.0s\n",
      "[CV 5/5] END ...............n_neighbors=42, p=2;, score=0.549 total time=   0.0s\n",
      "[CV 1/5] END ...............n_neighbors=43, p=1;, score=0.502 total time=   0.0s\n",
      "[CV 2/5] END ...............n_neighbors=43, p=1;, score=0.516 total time=   0.0s\n",
      "[CV 3/5] END ...............n_neighbors=43, p=1;, score=0.513 total time=   0.0s\n",
      "[CV 4/5] END ...............n_neighbors=43, p=1;, score=0.528 total time=   0.0s\n",
      "[CV 5/5] END ...............n_neighbors=43, p=1;, score=0.543 total time=   0.0s\n",
      "[CV 1/5] END ...............n_neighbors=43, p=2;, score=0.506 total time=   0.0s\n",
      "[CV 2/5] END ...............n_neighbors=43, p=2;, score=0.518 total time=   0.0s\n",
      "[CV 3/5] END ...............n_neighbors=43, p=2;, score=0.515 total time=   0.0s\n",
      "[CV 4/5] END ...............n_neighbors=43, p=2;, score=0.529 total time=   0.0s\n",
      "[CV 5/5] END ...............n_neighbors=43, p=2;, score=0.548 total time=   0.0s\n",
      "[CV 1/5] END ...............n_neighbors=44, p=1;, score=0.502 total time=   0.0s\n",
      "[CV 2/5] END ...............n_neighbors=44, p=1;, score=0.514 total time=   0.0s\n",
      "[CV 3/5] END ...............n_neighbors=44, p=1;, score=0.512 total time=   0.0s\n",
      "[CV 4/5] END ...............n_neighbors=44, p=1;, score=0.526 total time=   0.0s\n",
      "[CV 5/5] END ...............n_neighbors=44, p=1;, score=0.542 total time=   0.0s\n",
      "[CV 1/5] END ...............n_neighbors=44, p=2;, score=0.506 total time=   0.0s\n",
      "[CV 2/5] END ...............n_neighbors=44, p=2;, score=0.517 total time=   0.0s\n",
      "[CV 3/5] END ...............n_neighbors=44, p=2;, score=0.513 total time=   0.0s\n",
      "[CV 4/5] END ...............n_neighbors=44, p=2;, score=0.530 total time=   0.0s\n",
      "[CV 5/5] END ...............n_neighbors=44, p=2;, score=0.548 total time=   0.0s\n",
      "[CV 1/5] END ...............n_neighbors=45, p=1;, score=0.502 total time=   0.0s\n",
      "[CV 2/5] END ...............n_neighbors=45, p=1;, score=0.512 total time=   0.0s\n",
      "[CV 3/5] END ...............n_neighbors=45, p=1;, score=0.511 total time=   0.0s\n",
      "[CV 4/5] END ...............n_neighbors=45, p=1;, score=0.527 total time=   0.0s\n",
      "[CV 5/5] END ...............n_neighbors=45, p=1;, score=0.543 total time=   0.0s\n",
      "[CV 1/5] END ...............n_neighbors=45, p=2;, score=0.505 total time=   0.0s\n",
      "[CV 2/5] END ...............n_neighbors=45, p=2;, score=0.518 total time=   0.0s\n",
      "[CV 3/5] END ...............n_neighbors=45, p=2;, score=0.513 total time=   0.0s\n",
      "[CV 4/5] END ...............n_neighbors=45, p=2;, score=0.529 total time=   0.0s\n",
      "[CV 5/5] END ...............n_neighbors=45, p=2;, score=0.546 total time=   0.0s\n",
      "[CV 1/5] END ...............n_neighbors=46, p=1;, score=0.501 total time=   0.0s\n"
     ]
    },
    {
     "name": "stdout",
     "output_type": "stream",
     "text": [
      "[CV 2/5] END ...............n_neighbors=46, p=1;, score=0.509 total time=   0.0s\n",
      "[CV 3/5] END ...............n_neighbors=46, p=1;, score=0.509 total time=   0.0s\n",
      "[CV 4/5] END ...............n_neighbors=46, p=1;, score=0.525 total time=   0.0s\n",
      "[CV 5/5] END ...............n_neighbors=46, p=1;, score=0.541 total time=   0.0s\n",
      "[CV 1/5] END ...............n_neighbors=46, p=2;, score=0.504 total time=   0.0s\n",
      "[CV 2/5] END ...............n_neighbors=46, p=2;, score=0.517 total time=   0.0s\n",
      "[CV 3/5] END ...............n_neighbors=46, p=2;, score=0.511 total time=   0.0s\n",
      "[CV 4/5] END ...............n_neighbors=46, p=2;, score=0.530 total time=   0.0s\n",
      "[CV 5/5] END ...............n_neighbors=46, p=2;, score=0.546 total time=   0.0s\n",
      "[CV 1/5] END ...............n_neighbors=47, p=1;, score=0.500 total time=   0.0s\n",
      "[CV 2/5] END ...............n_neighbors=47, p=1;, score=0.509 total time=   0.0s\n",
      "[CV 3/5] END ...............n_neighbors=47, p=1;, score=0.508 total time=   0.0s\n",
      "[CV 4/5] END ...............n_neighbors=47, p=1;, score=0.525 total time=   0.0s\n",
      "[CV 5/5] END ...............n_neighbors=47, p=1;, score=0.540 total time=   0.0s\n",
      "[CV 1/5] END ...............n_neighbors=47, p=2;, score=0.504 total time=   0.0s\n",
      "[CV 2/5] END ...............n_neighbors=47, p=2;, score=0.516 total time=   0.0s\n",
      "[CV 3/5] END ...............n_neighbors=47, p=2;, score=0.510 total time=   0.0s\n",
      "[CV 4/5] END ...............n_neighbors=47, p=2;, score=0.530 total time=   0.0s\n",
      "[CV 5/5] END ...............n_neighbors=47, p=2;, score=0.544 total time=   0.0s\n",
      "[CV 1/5] END ...............n_neighbors=48, p=1;, score=0.499 total time=   0.0s\n",
      "[CV 2/5] END ...............n_neighbors=48, p=1;, score=0.510 total time=   0.0s\n",
      "[CV 3/5] END ...............n_neighbors=48, p=1;, score=0.508 total time=   0.0s\n",
      "[CV 4/5] END ...............n_neighbors=48, p=1;, score=0.524 total time=   0.0s\n",
      "[CV 5/5] END ...............n_neighbors=48, p=1;, score=0.539 total time=   0.0s\n",
      "[CV 1/5] END ...............n_neighbors=48, p=2;, score=0.504 total time=   0.0s\n",
      "[CV 2/5] END ...............n_neighbors=48, p=2;, score=0.515 total time=   0.0s\n",
      "[CV 3/5] END ...............n_neighbors=48, p=2;, score=0.510 total time=   0.0s\n",
      "[CV 4/5] END ...............n_neighbors=48, p=2;, score=0.531 total time=   0.0s\n",
      "[CV 5/5] END ...............n_neighbors=48, p=2;, score=0.542 total time=   0.0s\n",
      "[CV 1/5] END ...............n_neighbors=49, p=1;, score=0.501 total time=   0.0s\n",
      "[CV 2/5] END ...............n_neighbors=49, p=1;, score=0.509 total time=   0.0s\n",
      "[CV 3/5] END ...............n_neighbors=49, p=1;, score=0.507 total time=   0.0s\n",
      "[CV 4/5] END ...............n_neighbors=49, p=1;, score=0.524 total time=   0.0s\n",
      "[CV 5/5] END ...............n_neighbors=49, p=1;, score=0.538 total time=   0.0s\n",
      "[CV 1/5] END ...............n_neighbors=49, p=2;, score=0.504 total time=   0.0s\n",
      "[CV 2/5] END ...............n_neighbors=49, p=2;, score=0.515 total time=   0.0s\n",
      "[CV 3/5] END ...............n_neighbors=49, p=2;, score=0.509 total time=   0.0s\n",
      "[CV 4/5] END ...............n_neighbors=49, p=2;, score=0.531 total time=   0.0s\n",
      "[CV 5/5] END ...............n_neighbors=49, p=2;, score=0.542 total time=   0.0s\n"
     ]
    },
    {
     "data": {
      "text/plain": [
       "GridSearchCV(estimator=KNeighborsRegressor(),\n",
       "             param_grid={'n_neighbors': range(1, 50), 'p': [1, 2]}, verbose=3)"
      ]
     },
     "execution_count": 146,
     "metadata": {},
     "output_type": "execute_result"
    }
   ],
   "source": [
    "from sklearn.model_selection import GridSearchCV\n",
    "params_grid = {\"n_neighbors\": range(1, 50), \"p\": [1,2]}\n",
    "grid = GridSearchCV(KNeighborsRegressor(), params_grid,refit=True,verbose=3)\n",
    "grid.fit(X_train, y_train)"
   ]
  },
  {
   "cell_type": "code",
   "execution_count": 148,
   "metadata": {},
   "outputs": [
    {
     "data": {
      "text/plain": [
       "{'n_neighbors': 19, 'p': 2}"
      ]
     },
     "execution_count": 148,
     "metadata": {},
     "output_type": "execute_result"
    }
   ],
   "source": [
    "grid.best_params_"
   ]
  },
  {
   "cell_type": "code",
   "execution_count": 150,
   "metadata": {},
   "outputs": [
    {
     "name": "stdout",
     "output_type": "stream",
     "text": [
      "Test RMSE:  2.1880618850148883\n"
     ]
    }
   ],
   "source": [
    "test_preds_grid = grid.predict(X_test)\n",
    "test_mse = mean_squared_error(y_test, test_preds_grid)\n",
    "\n",
    "print('Test RMSE: ', sqrt(test_mse))"
   ]
  },
  {
   "cell_type": "code",
   "execution_count": null,
   "metadata": {},
   "outputs": [],
   "source": []
  }
 ],
 "metadata": {
  "kernelspec": {
   "display_name": "Python 3 (ipykernel)",
   "language": "python",
   "name": "python3"
  },
  "language_info": {
   "codemirror_mode": {
    "name": "ipython",
    "version": 3
   },
   "file_extension": ".py",
   "mimetype": "text/x-python",
   "name": "python",
   "nbconvert_exporter": "python",
   "pygments_lexer": "ipython3",
   "version": "3.9.12"
  }
 },
 "nbformat": 4,
 "nbformat_minor": 1
}
